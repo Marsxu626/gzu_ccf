{
 "cells": [
  {
   "cell_type": "markdown",
   "metadata": {},
   "source": [
    "# 引水入城"
   ]
  },
  {
   "cell_type": "markdown",
   "metadata": {},
   "source": [
    "## 时间限制\n",
    "2.0s"
   ]
  },
  {
   "cell_type": "markdown",
   "metadata": {},
   "source": [
    "## 内存限制\n",
    "512.0MB"
   ]
  },
  {
   "cell_type": "markdown",
   "metadata": {
    "toc-hr-collapsed": false
   },
   "source": [
    "## 问题描述\n",
    "&emsp;&emsp;MF城建立在一片高原上。由于城市唯一的水源是位于河谷地带的湖中，人们在坡地上修筑了一片网格状的抽水水管，以将湖水抽入城市。如下图所示：\n",
    "\n",
    "![img-201703-5-1](images/201703-5-1.png)\n",
    "\n",
    "&emsp;&emsp;这片管网由 n 行 m 列节点（红色，图中 n = 5，m = 6），横向管道（紫色）和纵向管道（橙色）构成。\n",
    "\n",
    "&emsp;&emsp;行和列分别用 1 到 n 的整数和 1 到 m 的整数表示。第 1 行的任何一个节点均可以抽取湖水，湖水到达第 n 行的任何一个节点即算作引入了城市。\n",
    "\n",
    "&emsp;&emsp;除第一行和最后一行外，横向相邻或纵向相邻的两个节点之间一定有一段管道，每一段管道都有各自的最大的抽水速率，并需要根据情况选择抽水还是放水。对于纵向的管道（橙色），允许从上方向下方抽水或从下方向上方放水；如果从图中的上方向下方抽水，那么单位时间内能通过的水量不能超过管道的最大速率；如果从下方向上方放水，因为下方海拔较高，因此可以允许有任意大的水量。对于横向的管道（紫色），允许从左向右或从右向左抽水，不允许放水，两种情况下单位时间流过的水量都不能超过管道的最大速率。\n",
    "\n",
    "&emsp;&emsp;现在MF城市的水务负责人想知道，在已知每个管道单位时间容量的情况下，MF城每单位时间最多可以引入多少的湖水。"
   ]
  },
  {
   "cell_type": "markdown",
   "metadata": {},
   "source": [
    "### 输入格式\n",
    "&emsp;&emsp;由于输入规模较大，我们采用伪随机生成的方式生成数据。\n",
    "\n",
    "&emsp;&emsp;每组数据仅一行包含 6 个非负整数 n, m, A, B, Q, $X_0$。其中，n 和 m 如前文所述，表示管网的大小，保证 2 ≤ n, m ≤ 5000；保证 1 ≤ A, B, Q, $X_0$ ≤ $10^9$。\n",
    "\n",
    "&emsp;&emsp;A, B, Q, $X_0$ 是数据生成的参数，我们用如下的方式定义一个数列 { $X_i$ }：\n",
    "\n",
    "&emsp;&emsp;$X_{i+1}$ = ( A$X_i$ + B) mod Q, (i ≥ 0)\n",
    "\n",
    "&emsp;&emsp;我们将数列的第 1 项到第 (n-1)m 项作为纵向管道的单位时间容量，其中 $X_{(s-1)m+t}$ 表示第 s 行第 t 列的节点到第 s+1 行第 t 列管道单位时间的容量；将数列的第 (n-1)m+1 项到第 (n-1)m+(n-2)(m-1) 项（即接下来的 (n-2)(m-1) 项）作为横向管道的单位时间容量，其中 $X_{(n-1)m+(s-2)(m-1)+t}$ 表示第 s 行第 t 列的节点到第 s 行第 t+1 列管道单位时间的容量。\n"
   ]
  },
  {
   "cell_type": "markdown",
   "metadata": {},
   "source": [
    "### 输出格式\n",
    "&emsp;&emsp;输出一行一个整数，表示MF城每单位时间可以引入的水量。\n",
    "\n",
    "&emsp;&emsp;注意计算过程中有些参数可能超过32位整型表示的最大值，请注意使用64位整型存储相应数据。\n"
   ]
  },
  {
   "cell_type": "markdown",
   "metadata": {},
   "source": [
    "### 样例输入\n",
    "<pre>\n",
    "3 3 10 3 19 7\n",
    "</pre>"
   ]
  },
  {
   "cell_type": "markdown",
   "metadata": {
    "toc-hr-collapsed": false
   },
   "source": [
    "### 样例输出\n",
    "<pre>\n",
    "38\n",
    "</pre>"
   ]
  },
  {
   "cell_type": "markdown",
   "metadata": {},
   "source": [
    "### 样例说明\n",
    "&emsp;&emsp;使用参数得到数列 { Xi }={ 7, 16, 11, 18, 12, 9, 17, 2, 4, … }，按照输入格式可以得到每个管道的最大抽水量如下图所示：\n",
    "\n",
    "![img-201703-5-2](images/201703-5-2.png)\n",
    "\n",
    "&emsp;&emsp;在标准答案中，单位时间可以引水 38 单位。所有纵向管道均向下抽水即可，不需要横向管道抽水，也不需要向上放水。"
   ]
  },
  {
   "cell_type": "markdown",
   "metadata": {},
   "source": [
    "### 样例输入\n",
    "<pre>\n",
    "2 5 595829232 749238243 603779819 532737791\n",
    "</pre>"
   ]
  },
  {
   "cell_type": "markdown",
   "metadata": {
    "toc-hr-collapsed": false
   },
   "source": [
    "### 样例输出\n",
    "<pre>\n",
    "1029036148\n",
    "</pre>"
   ]
  },
  {
   "cell_type": "markdown",
   "metadata": {},
   "source": [
    "### 样例输入\n",
    "<pre>\n",
    "5 2 634932890 335818535 550589587 977780683\n",
    "</pre>"
   ]
  },
  {
   "cell_type": "markdown",
   "metadata": {
    "toc-hr-collapsed": false
   },
   "source": [
    "### 样例输出\n",
    "<pre>\n",
    "192923706\n",
    "</pre>"
   ]
  },
  {
   "cell_type": "markdown",
   "metadata": {},
   "source": [
    "### 样例输入\n",
    "<pre>\n",
    "5 5 695192542 779962396 647834146 157661239\n",
    "</pre>"
   ]
  },
  {
   "cell_type": "markdown",
   "metadata": {
    "toc-hr-collapsed": false
   },
   "source": [
    "### 样例输出\n",
    "<pre>\n",
    "1449991168\n",
    "</pre>"
   ]
  },
  {
   "cell_type": "markdown",
   "metadata": {},
   "source": [
    "### 评测用例规模与约定\n",
    "&emsp;&emsp;共有10组评测数据，每组数据的参数规模如下所示：\n",
    "\n",
    "![img-201703-5-3](images/201703-5-3.png)"
   ]
  },
  {
   "cell_type": "code",
   "execution_count": null,
   "metadata": {},
   "outputs": [],
   "source": []
  }
 ],
 "metadata": {
  "kernelspec": {
   "display_name": "Python 3",
   "language": "python",
   "name": "python3"
  },
  "language_info": {
   "codemirror_mode": {
    "name": "ipython",
    "version": 3
   },
   "file_extension": ".py",
   "mimetype": "text/x-python",
   "name": "python",
   "nbconvert_exporter": "python",
   "pygments_lexer": "ipython3",
   "version": "3.7.3"
  }
 },
 "nbformat": 4,
 "nbformat_minor": 4
}

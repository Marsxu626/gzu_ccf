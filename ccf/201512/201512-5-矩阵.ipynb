{
 "cells": [
  {
   "cell_type": "markdown",
   "metadata": {},
   "source": [
    "# 矩阵"
   ]
  },
  {
   "cell_type": "markdown",
   "metadata": {},
   "source": [
    "## 时间限制\n",
    "1.0s"
   ]
  },
  {
   "cell_type": "markdown",
   "metadata": {},
   "source": [
    "## 内存限制\n",
    "256.0MB"
   ]
  },
  {
   "cell_type": "markdown",
   "metadata": {
    "toc-hr-collapsed": false
   },
   "source": [
    "## 问题描述\n",
    "&emsp;&emsp;创造一个世界只需要定义一个初状态和状态转移规则。\n",
    "\n",
    "&emsp;&emsp;宏观世界的物体运动规律始终跟物体当前的状态有关，也就是说只要知道物体足够多的状态信息，例如位置、速度等，我们就能知道物体之后任意时刻的状态。\n",
    "\n",
    "&emsp;&emsp;现在小M创造了一个简化的世界。\n",
    "\n",
    "&emsp;&emsp;这个世界中，时间是离散的，物理规律是线性的：世界的初始状态可以用一个m维向量$b^{(0)}$表示，状态的转移方式用m×m的矩阵A表示。\n",
    "\n",
    "&emsp;&emsp;若已知这个世界当前的状态是b，那么下一时刻就等于b左乘状态转移矩阵A，即Ab。\n",
    "\n",
    "&emsp;&emsp;这个世界中，物体的状态也是离散的，也就是说可以用整数表示。再进一步，整数都可以用二进制编码拆分为有限位0和1。因此，这里的矩阵A和向量b的每个元素都是0或1，矩阵乘法中的加法运算视为异或运算（xor），乘法运算视为与运算（and）。\n",
    "\n",
    "&emsp;&emsp;具体地，设矩阵A第i行第j列的元素为ai, j，向量b的第i个元素为bi。那么乘法Ab所得的第k个元素为\n",
    "\n",
    "&emsp;&emsp;$$ (a_{k,1}\\ and\\ b_1)\\ xor\\ (a_{k,2}\\ and\\ b_2)\\ xor\\ ⋯\\ xor\\ (a_{k,m}\\ and\\ b_m) $$\n",
    "\n",
    "&emsp;&emsp;矩阵和矩阵的乘法也有类似的表达。\n",
    "\n",
    "&emsp;&emsp;小M发现，这样的矩阵运算也有乘法结合律，例如有A(Ab)=(AA)b=$A^2b$。\n",
    "\n",
    "&emsp;&emsp;为了保证自己创造的世界维度不轻易下降，小M保证了矩阵A可逆，也就是说存在一个矩阵$A^{-1}$，使得对任意向量d，都有$A^{-1}Ad$=d。\n",
    "\n",
    "&emsp;&emsp;小M想了解自己创造的世界是否合理，他希望知道这个世界在不同时刻的状态。\n",
    "\n",
    "&emsp;&emsp;具体地，小M有n组询问，每组询问会给出一个非负整数k，小M希望你帮他求出 $A^kb$ 。\n"
   ]
  },
  {
   "cell_type": "markdown",
   "metadata": {},
   "source": [
    "### 输入格式\n",
    "&emsp;&emsp;输入第一行包含一个整数m，表示矩阵和向量的规模。\n",
    "\n",
    "&emsp;&emsp;接下来m行，每行包含一个长度为m的01串，表示矩阵A。\n",
    "\n",
    "&emsp;&emsp;接下来一行，包含一个长度为m的01串，表示初始向量$b^{(0)}$。（$b^{(0)}$是列向量，这里表示它的转置）\n",
    "\n",
    "&emsp;&emsp;注意：01串两个相邻的数字之间均没有空格。\n",
    "\n",
    "&emsp;&emsp;接下来一行，包含一个正整数n，表示询问的个数。\n",
    "\n",
    "&emsp;&emsp;最后n行，每行包含一个非负整数k，表示询问$A^kb^{(0)}$。\n",
    "\n",
    "&emsp;&emsp;注意：k可能为0，此时是求$A^0b^{(0)} =b^{(0)}$。\n"
   ]
  },
  {
   "cell_type": "markdown",
   "metadata": {},
   "source": [
    "### 输出格式\n",
    "&emsp;&emsp;输出n行，每行包含一个01串，表示对应询问中Akb(0)的结果。\n",
    "\n",
    "&emsp;&emsp;注意：01串两个相邻的数字之间不要输出空格。\n"
   ]
  },
  {
   "cell_type": "markdown",
   "metadata": {},
   "source": [
    "### 样例输入\n",
    "<pre>\n",
    "3\n",
    "110\n",
    "011\n",
    "111\n",
    "101\n",
    "10\n",
    "0\n",
    "2\n",
    "3\n",
    "14\n",
    "1\n",
    "1325\n",
    "6\n",
    "124124\n",
    "151\n",
    "12312\n",
    "</pre>"
   ]
  },
  {
   "cell_type": "markdown",
   "metadata": {
    "toc-hr-collapsed": false
   },
   "source": [
    "### 样例输出\n",
    "<pre>\n",
    "101\n",
    "010\n",
    "111\n",
    "101\n",
    "110\n",
    "010\n",
    "100\n",
    "101\n",
    "001\n",
    "100\n",
    "</pre>"
   ]
  },
  {
   "cell_type": "markdown",
   "metadata": {},
   "source": [
    "### 评测用例规模与约定\n",
    "&emsp;&emsp;本题使用10个评测用例来测试你的程序。\n",
    "\n",
    "&emsp;&emsp;对于评测用例1，m = 10，n = 100，k ≤ 103。\n",
    "\n",
    "&emsp;&emsp;对于评测用例2，m = 10，n = 100，k ≤ 104。\n",
    "\n",
    "&emsp;&emsp;对于评测用例3，m = 30，n = 100，k ≤ 105。\n",
    "\n",
    "&emsp;&emsp;对于评测用例4，m = 180，n = 100，k ≤ 105。\n",
    "\n",
    "&emsp;&emsp;对于评测用例5，m = 10，n = 100，k ≤ 109。\n",
    "\n",
    "&emsp;&emsp;对于评测用例6，m = 30，n = 100，k ≤ 109。\n",
    "\n",
    "&emsp;&emsp;对于评测用例7，m = 180，n = 100，k ≤ 109。\n",
    "\n",
    "&emsp;&emsp;对于评测用例8，m = 600，n = 100，k ≤ 109。\n",
    "\n",
    "&emsp;&emsp;对于评测用例9，m = 800，n = 100，k ≤ 109。\n",
    "\n",
    "&emsp;&emsp;对于评测用例10，m = 1000，n = 100，k ≤ 109。\n"
   ]
  },
  {
   "cell_type": "code",
   "execution_count": null,
   "metadata": {},
   "outputs": [],
   "source": []
  }
 ],
 "metadata": {
  "kernelspec": {
   "display_name": "Python 3",
   "language": "python",
   "name": "python3"
  },
  "language_info": {
   "codemirror_mode": {
    "name": "ipython",
    "version": 3
   },
   "file_extension": ".py",
   "mimetype": "text/x-python",
   "name": "python",
   "nbconvert_exporter": "python",
   "pygments_lexer": "ipython3",
   "version": "3.6.9"
  }
 },
 "nbformat": 4,
 "nbformat_minor": 4
}

{
 "cells": [
  {
   "cell_type": "markdown",
   "metadata": {},
   "source": [
    "# 画图"
   ]
  },
  {
   "cell_type": "markdown",
   "metadata": {},
   "source": [
    "## 时间限制\n",
    "1.0s"
   ]
  },
  {
   "cell_type": "markdown",
   "metadata": {},
   "source": [
    "## 内存限制\n",
    "256.0MB"
   ]
  },
  {
   "cell_type": "markdown",
   "metadata": {
    "toc-hr-collapsed": false
   },
   "source": [
    "## 问题描述\n",
    "&emsp;&emsp;用 ASCII 字符来画图是一件有趣的事情，并形成了一门被称为 ASCII Art 的艺术。例如，下图是用 ASCII 字符画出来的 CSPRO 字样。\n",
    "<pre>\n",
    "..____.____..____..____...___..\n",
    "./.___/.___||.._.\\|.._.\\./._.\\.\n",
    "|.|...\\___.\\|.|_).|.|_).|.|.|.|\n",
    "|.|___.___).|..__/|.._.&lt;|.|_|.|\n",
    ".\\____|____/|_|...|_|.\\_\\\\___/.\n",
    "</pre>\n",
    "&emsp;&emsp;本题要求编程实现一个用 ASCII 字符来画图的程序，支持以下两种操作：\n",
    "\n",
    "* 画线：给出两个端点的坐标，画一条连接这两个端点的线段。简便起见题目保证要画的每条线段都是水平或者竖直的。水平线段用字符 - 来画，竖直线段用字符 | 来画。如果一条水平线段和一条竖直线段在某个位置相交，则相交位置用字符 + 代替。\n",
    "\n",
    "* 填充：给出填充的起始位置坐标和需要填充的字符，从起始位置开始，用该字符填充相邻位置，直到遇到画布边缘或已经画好的线段。注意这里的相邻位置只需要考虑上下左右 4 个方向，如下图所示，字符 @ 只和 4 个字符 * 相邻。\n",
    "\n",
    "<pre>\n",
    ".*.\n",
    "*@*\n",
    ".*.\n",
    "</pre>"
   ]
  },
  {
   "cell_type": "markdown",
   "metadata": {},
   "source": [
    "### 输入格式\n",
    "&emsp;&emsp;第1行有三个整数m, n和q。m和n分别表示画布的宽度和高度，以字符为单位。q表示画图操作的个数。\n",
    "\n",
    "&emsp;&emsp;第2行至第q + 1行，每行是以下两种形式之一：\n",
    "\n",
    "*  x1 y1 x2 y2：表示画线段的操作，(x1, y1)和(x2, y2)分别是线段的两端，满足要么x1 = x2 且y1 ≠ y2，要么 y1 = y2 且 x1 ≠ x2。\n",
    "*  x y c：表示填充操作，(x, y)是起始位置，保证不会落在任何已有的线段上；c 为填充字符，是大小写字母。\n",
    "\n",
    "&emsp;&emsp;画布的左下角是坐标为 (0, 0) 的位置，向右为x坐标增大的方向，向上为y坐标增大的方向。这q个操作按照数据给出的顺序依次执行。画布最初时所有位置都是字符 .（小数点）。"
   ]
  },
  {
   "cell_type": "markdown",
   "metadata": {},
   "source": [
    "### 输出格式\n",
    "&emsp;&emsp;输出有n行，每行m个字符，表示依次执行这q个操作后得到的画图结果。\n"
   ]
  },
  {
   "cell_type": "markdown",
   "metadata": {},
   "source": [
    "### 样例输入\n",
    "<pre>\n",
    "4 2 3\n",
    "1 0 0 B\n",
    "0 1 0 2 0\n",
    "1 0 0 A\n",
    "</pre>"
   ]
  },
  {
   "cell_type": "markdown",
   "metadata": {
    "toc-hr-collapsed": false
   },
   "source": [
    "### 样例输出\n",
    "<pre>\n",
    "AAAA\n",
    "A--A\n",
    "</pre>"
   ]
  },
  {
   "cell_type": "markdown",
   "metadata": {},
   "source": [
    "### 样例输入\n",
    "<pre>\n",
    "16 13 9\n",
    "0 3 1 12 1\n",
    "0 12 1 12 3\n",
    "0 12 3 6 3\n",
    "0 6 3 6 9\n",
    "0 6 9 12 9\n",
    "0 12 9 12 11\n",
    "0 12 11 3 11\n",
    "0 3 11 3 1\n",
    "1 4 2 C\n",
    "</pre>"
   ]
  },
  {
   "cell_type": "markdown",
   "metadata": {
    "toc-hr-collapsed": false
   },
   "source": [
    "### 样例输出\n",
    "<pre>\n",
    "................\n",
    "...+--------+...\n",
    "...|CCCCCCCC|...\n",
    "...|CC+-----+...\n",
    "...|CC|.........\n",
    "...|CC|.........\n",
    "...|CC|.........\n",
    "...|CC|.........\n",
    "...|CC|.........\n",
    "...|CC+-----+...\n",
    "...|CCCCCCCC|...\n",
    "...+--------+...\n",
    "................\n",
    "</pre>"
   ]
  },
  {
   "cell_type": "markdown",
   "metadata": {},
   "source": [
    "### 评测用例规模与约定\n",
    "&emsp;&emsp;所有的评测用例满足：2 ≤ m, n ≤ 100，0 ≤ q ≤ 100，0 ≤ x < m（x表示输入数据中所有位置的x坐标），0 ≤ y < n（y表示输入数据中所有位置的y坐标）。\n"
   ]
  },
  {
   "cell_type": "code",
   "execution_count": null,
   "metadata": {},
   "outputs": [],
   "source": []
  }
 ],
 "metadata": {
  "kernelspec": {
   "display_name": "Python 3",
   "language": "python",
   "name": "python3"
  },
  "language_info": {
   "codemirror_mode": {
    "name": "ipython",
    "version": 3
   },
   "file_extension": ".py",
   "mimetype": "text/x-python",
   "name": "python",
   "nbconvert_exporter": "python",
   "pygments_lexer": "ipython3",
   "version": "3.6.9"
  }
 },
 "nbformat": 4,
 "nbformat_minor": 4
}

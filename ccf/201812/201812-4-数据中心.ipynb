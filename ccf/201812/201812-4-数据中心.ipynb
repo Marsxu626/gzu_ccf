{
 "cells": [
  {
   "cell_type": "markdown",
   "metadata": {},
   "source": [
    "# 数据中心"
   ]
  },
  {
   "cell_type": "markdown",
   "metadata": {},
   "source": [
    "## 时间限制\n",
    "1.0s"
   ]
  },
  {
   "cell_type": "markdown",
   "metadata": {},
   "source": [
    "## 内存限制\n",
    "512.0MB"
   ]
  },
  {
   "cell_type": "markdown",
   "metadata": {
    "toc-hr-collapsed": false
   },
   "source": [
    "## 问题描述\n",
    "\n",
    "\n",
    "![img-201812-4-1](images/201812-4-1.png)\n",
    "![img-201812-4-2](images/201812-4-2.png)"
   ]
  },
  {
   "cell_type": "markdown",
   "metadata": {},
   "source": [
    "### 样例输入\n",
    "<pre>\n",
    "4\n",
    "5\n",
    "1\n",
    "1 2 3\n",
    "1 3 4\n",
    "1 4 5\n",
    "2 3 8\n",
    "3 4 2\n",
    "</pre>"
   ]
  },
  {
   "cell_type": "markdown",
   "metadata": {
    "toc-hr-collapsed": false
   },
   "source": [
    "### 样例输出\n",
    "<pre>\n",
    "4\n",
    "</pre>"
   ]
  },
  {
   "cell_type": "markdown",
   "metadata": {},
   "source": [
    "### 样例说明\n",
    "&emsp;&emsp;下图是样例说明。\n",
    "\n",
    "![img-201812-4-3](images/201812-4-3.png)\n",
    "\n",
    "![img-201812-4-4](images/201812-4-4.png)"
   ]
  },
  {
   "cell_type": "code",
   "execution_count": null,
   "metadata": {},
   "outputs": [],
   "source": []
  }
 ],
 "metadata": {
  "kernelspec": {
   "display_name": "Python 3",
   "language": "python",
   "name": "python3"
  },
  "language_info": {
   "codemirror_mode": {
    "name": "ipython",
    "version": 3
   },
   "file_extension": ".py",
   "mimetype": "text/x-python",
   "name": "python",
   "nbconvert_exporter": "python",
   "pygments_lexer": "ipython3",
   "version": "3.7.3"
  }
 },
 "nbformat": 4,
 "nbformat_minor": 4
}

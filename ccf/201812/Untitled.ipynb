{
 "cells": [
  {
   "cell_type": "code",
   "execution_count": 7,
   "metadata": {},
   "outputs": [
    {
     "name": "stdin",
     "output_type": "stream",
     "text": [
      " 8\n",
      " 4 1 3 1 6 5 17 9\n"
     ]
    },
    {
     "name": "stdout",
     "output_type": "stream",
     "text": [
      "[4, 1, 3, 1, 6, 5, 17, 9]\n",
      "2 2 1 3 4 9 10 13 \n"
     ]
    }
   ],
   "source": [
    "n = int(input())\n",
    "data = [int(i) for i in input().split()]\n",
    "ans = data.copy()\n",
    "ans[0] = (data[0] + data[1])//2\n",
    "for i in range(1,n-1):\n",
    "    ans[i] = (data[i-1] + data[i] + data[i+1])//3\n",
    "ans[n-1] = (data[n-2] + data[n-1])//2\n",
    "for i in range(n):\n",
    "    print(ans[i],end=' ')\n",
    "    \n",
    "print()"
   ]
  },
  {
   "cell_type": "code",
   "execution_count": 23,
   "metadata": {},
   "outputs": [
    {
     "name": "stdin",
     "output_type": "stream",
     "text": [
      " 4\n",
      " 1 3\n",
      " 5 6\n",
      " 9 13\n",
      " 14 15\n",
      " 2 4\n",
      " 5 7\n",
      " 10 11\n",
      " 13 14\n"
     ]
    }
   ],
   "source": [
    "\n",
    "n = int(input())\n",
    "H = []\n",
    "W = []\n",
    "app = H.append\n",
    "for i in range(n):\n",
    "    app([int(j) for j in input().split()])\n",
    "    \n",
    "app = W.append\n",
    "for i in range(n):\n",
    "    app([int(j) for j in input().split()])\n",
    "    \n"
   ]
  },
  {
   "cell_type": "code",
   "execution_count": 27,
   "metadata": {},
   "outputs": [
    {
     "name": "stdout",
     "output_type": "stream",
     "text": [
      "3\n"
     ]
    }
   ],
   "source": [
    "# H.sort()\n",
    "# W.sort()\n",
    "time_line = [0]*1000001\n",
    "times = 0\n",
    "for i in H:\n",
    "    for s in range(i[0],i[1]):   # 此处可与 读取标准输入时的循环写在一起，下同\n",
    "        time_line[s] += 1\n",
    "\n",
    "for i in W:\n",
    "    for s in range(i[0],i[1]):\n",
    "        time_line[s] += 1\n",
    "\n",
    "Min = min(H[0][0],W[0][0])\n",
    "Max = max(H[-1][1],W[-1][1])\n",
    "for i in range(Min,Max):\n",
    "    if time_line[i] == 2:\n",
    "        times += 1\n",
    "        \n",
    "print(times)\n"
   ]
  },
  {
   "cell_type": "code",
   "execution_count": 28,
   "metadata": {},
   "outputs": [
    {
     "name": "stdout",
     "output_type": "stream",
     "text": [
      "3\n"
     ]
    }
   ],
   "source": [
    "# H.sort()\n",
    "# W.sort()\n",
    "times = 0\n",
    "for i in H:\n",
    "    for j in W:\n",
    "        if i[0]>=j[1]: # 1\n",
    "            continue\n",
    "        elif i[1] <= j[0]: # 6\n",
    "            break\n",
    "        elif i[0] <= j[0] and j[1] >= i[1]: # 5\n",
    "            times += abs(i[1] - j[0])\n",
    "        elif i[0] <= j[0] and j[1] <= i[1]: # 3\n",
    "            times += abs(j[1] - j[0])\n",
    "        elif i[0] >= j[0] and j[1] >= i[1]: # 4\n",
    "            times += abs(i[1] - i[0])\n",
    "        elif i[0] >= j[0] and j[1] <= i[1]: # 2\n",
    "            times += abs(j[1] - i[0])\n",
    "\n",
    "print(times)"
   ]
  },
  {
   "cell_type": "code",
   "execution_count": 16,
   "metadata": {},
   "outputs": [
    {
     "name": "stdout",
     "output_type": "stream",
     "text": [
      "593 ns ± 13.3 ns per loop (mean ± std. dev. of 7 runs, 1000000 loops each)\n"
     ]
    }
   ],
   "source": [
    "%%timeit\n",
    "A = [[1, 3], [5, 6], [9, 13], [14, 15]]\n",
    "B = []\n",
    "for i in A:\n",
    "    B.append(i)\n",
    "# print(B)"
   ]
  },
  {
   "cell_type": "code",
   "execution_count": 17,
   "metadata": {},
   "outputs": [
    {
     "name": "stdout",
     "output_type": "stream",
     "text": [
      "533 ns ± 1.33 ns per loop (mean ± std. dev. of 7 runs, 1000000 loops each)\n"
     ]
    }
   ],
   "source": [
    "%%timeit\n",
    "A = [[1, 3], [5, 6], [9, 13], [14, 15]]\n",
    "B = []\n",
    "app = B.append\n",
    "for i in A:\n",
    "    app(i)\n",
    "# print(B)"
   ]
  }
 ],
 "metadata": {
  "kernelspec": {
   "display_name": "Python 3",
   "language": "python",
   "name": "python3"
  },
  "language_info": {
   "codemirror_mode": {
    "name": "ipython",
    "version": 3
   },
   "file_extension": ".py",
   "mimetype": "text/x-python",
   "name": "python",
   "nbconvert_exporter": "python",
   "pygments_lexer": "ipython3",
   "version": "3.7.3"
  }
 },
 "nbformat": 4,
 "nbformat_minor": 4
}

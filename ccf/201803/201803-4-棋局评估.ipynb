{
 "cells": [
  {
   "cell_type": "markdown",
   "metadata": {},
   "source": [
    "# 棋局评估"
   ]
  },
  {
   "cell_type": "markdown",
   "metadata": {},
   "source": [
    "## 时间限制\n",
    "1.0s"
   ]
  },
  {
   "cell_type": "markdown",
   "metadata": {},
   "source": [
    "## 内存限制\n",
    "256.0MB"
   ]
  },
  {
   "cell_type": "markdown",
   "metadata": {
    "toc-hr-collapsed": false
   },
   "source": [
    "## 问题描述\n",
    "&emsp;&emsp;Alice和Bob正在玩井字棋游戏。\n",
    "\n",
    "&emsp;&emsp;井字棋游戏的规则很简单：两人轮流往3*3的棋盘中放棋子，Alice放的是“X”，Bob放的是“O”，Alice执先。当同一种棋子占据一行、一列或一条对角线的三个格子时，游戏结束，该种棋子的持有者获胜。当棋盘被填满的时候，游戏结束，双方平手。\n",
    "\n",
    "&emsp;&emsp;Alice设计了一种对棋局评分的方法：\n",
    "* 对于Alice已经获胜的局面，评估得分为(棋盘上的空格子数+1)；\n",
    "* 对于Bob已经获胜的局面，评估得分为 -(棋盘上的空格子数+1)；\n",
    "* 对于平局的局面，评估得分为0；\n",
    "\n",
    "![img-201803-4-1](images/201803-4-1.png)\n",
    "\n",
    "&emsp;&emsp;例如上图中的局面，Alice已经获胜，同时棋盘上有2个空格，所以局面得分为2+1=3。\n",
    "\n",
    "&emsp;&emsp;由于Alice并不喜欢计算，所以他请教擅长编程的你，如果两人都以最优策略行棋，那么当前局面的最终得分会是多少？\n"
   ]
  },
  {
   "cell_type": "markdown",
   "metadata": {},
   "source": [
    "### 输入格式\n",
    "&emsp;&emsp;输入的第一行包含一个正整数T，表示数据的组数。\n",
    "\n",
    "&emsp;&emsp;每组数据输入有3行，每行有3个整数，用空格分隔，分别表示棋盘每个格子的状态。0表示格子为空，1表示格子中为“X”，2表示格子中为“O”。保证不会出现其他状态。\n",
    "\n",
    "&emsp;&emsp;保证输入的局面合法。(即保证输入的局面可以通过行棋到达，且保证没有双方同时获胜的情况)\n",
    "\n",
    "&emsp;&emsp;保证输入的局面轮到Alice行棋。\n"
   ]
  },
  {
   "cell_type": "markdown",
   "metadata": {},
   "source": [
    "### 输出格式\n",
    "&emsp;&emsp;对于每组数据，输出一行一个整数，表示当前局面的得分。\n"
   ]
  },
  {
   "cell_type": "markdown",
   "metadata": {},
   "source": [
    "### 样例输入\n",
    "<pre>\n",
    "3\n",
    "1 2 1\n",
    "2 1 2\n",
    "0 0 0\n",
    "2 1 1\n",
    "0 2 1\n",
    "0 0 2\n",
    "0 0 0\n",
    "0 0 0\n",
    "0 0 0\n",
    "</pre>"
   ]
  },
  {
   "cell_type": "markdown",
   "metadata": {
    "toc-hr-collapsed": false
   },
   "source": [
    "### 样例输出\n",
    "<pre>\n",
    "3\n",
    "-4\n",
    "0\n",
    "</pre>"
   ]
  },
  {
   "cell_type": "markdown",
   "metadata": {},
   "source": [
    "### 样例说明\n",
    "&emsp;&emsp;第一组数据：\n",
    "\n",
    "&emsp;&emsp;Alice将棋子放在左下角(或右下角)后，可以到达问题描述中的局面，得分为3。\n",
    "\n",
    "&emsp;&emsp;3为Alice行棋后能到达的局面中得分的最大值。\n",
    "\n",
    "&emsp;&emsp;第二组数据：\n",
    "\n",
    "![img-201803-4-2](images/201803-4-2.png)\n",
    "\n",
    "&emsp;&emsp;Bob已经获胜(如图)，此局面得分为-(3+1)=-4。\n",
    "\n",
    "&emsp;&emsp;第三组数据：\n",
    "\n",
    "&emsp;&emsp;井字棋中若双方都采用最优策略，游戏平局，最终得分为0。\n"
   ]
  },
  {
   "cell_type": "markdown",
   "metadata": {},
   "source": [
    "### 评测用例规模与约定\n",
    "&emsp;&emsp;对于所有评测用例，1 ≤ T ≤ 5。\n"
   ]
  },
  {
   "cell_type": "code",
   "execution_count": null,
   "metadata": {},
   "outputs": [],
   "source": []
  }
 ],
 "metadata": {
  "kernelspec": {
   "display_name": "Python 3",
   "language": "python",
   "name": "python3"
  },
  "language_info": {
   "codemirror_mode": {
    "name": "ipython",
    "version": 3
   },
   "file_extension": ".py",
   "mimetype": "text/x-python",
   "name": "python",
   "nbconvert_exporter": "python",
   "pygments_lexer": "ipython3",
   "version": "3.7.3"
  }
 },
 "nbformat": 4,
 "nbformat_minor": 4
}

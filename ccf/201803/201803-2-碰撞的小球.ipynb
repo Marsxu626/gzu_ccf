{
 "cells": [
  {
   "cell_type": "markdown",
   "metadata": {},
   "source": [
    "# 碰撞的小球"
   ]
  },
  {
   "cell_type": "markdown",
   "metadata": {},
   "source": [
    "## 时间限制\n",
    "1.0s"
   ]
  },
  {
   "cell_type": "markdown",
   "metadata": {},
   "source": [
    "## 内存限制\n",
    "256.0MB"
   ]
  },
  {
   "cell_type": "markdown",
   "metadata": {
    "toc-hr-collapsed": false
   },
   "source": [
    "## 问题描述\n",
    "&emsp;&emsp;数轴上有一条长度为L（L为偶数)的线段，左端点在原点，右端点在坐标L处。有n个不计体积的小球在线段上，开始时所有的小球都处在偶数坐标上，速度方向向右，速度大小为1单位长度每秒。\n",
    "\n",
    "&emsp;&emsp;当小球到达线段的端点（左端点或右端点）的时候，会立即向相反的方向移动，速度大小仍然为原来大小。\n",
    "\n",
    "&emsp;&emsp;当两个小球撞到一起的时候，两个小球会分别向与自己原来移动的方向相反的方向，以原来的速度大小继续移动。\n",
    "\n",
    "&emsp;&emsp;现在，告诉你线段的长度L，小球数量n，以及n个小球的初始位置，请你计算t秒之后，各个小球的位置。\n"
   ]
  },
  {
   "cell_type": "markdown",
   "metadata": {},
   "source": [
    "### 提示\n",
    "&emsp;&emsp;因为所有小球的初始位置都为偶数，而且线段的长度为偶数，可以证明，不会有三个小球同时相撞，小球到达线段端点以及小球之间的碰撞时刻均为整数。\n",
    "\n",
    "&emsp;&emsp;同时也可以证明两个小球发生碰撞的位置一定是整数（但不一定是偶数）。\n"
   ]
  },
  {
   "cell_type": "markdown",
   "metadata": {},
   "source": [
    "### 输入格式\n",
    "&emsp;&emsp;输入的第一行包含三个整数n, L, t，用空格分隔，分别表示小球的个数、线段长度和你需要计算t秒之后小球的位置。\n",
    "\n",
    "&emsp;&emsp;第二行包含n个整数a1, a2, …, an，用空格分隔，表示初始时刻n个小球的位置。\n"
   ]
  },
  {
   "cell_type": "markdown",
   "metadata": {},
   "source": [
    "### 输出格式\n",
    "&emsp;&emsp;输出一行包含n个整数，用空格分隔，第i个整数代表初始时刻位于ai的小球，在t秒之后的位置。\n"
   ]
  },
  {
   "cell_type": "markdown",
   "metadata": {},
   "source": [
    "### 样例输入\n",
    "<pre>\n",
    "3 10 5\n",
    "4 6 8\n",
    "</pre>"
   ]
  },
  {
   "cell_type": "markdown",
   "metadata": {
    "toc-hr-collapsed": false
   },
   "source": [
    "### 样例输出\n",
    "<pre>\n",
    "7 9 9\n",
    "</pre>"
   ]
  },
  {
   "cell_type": "markdown",
   "metadata": {},
   "source": [
    "### 样例说明\n",
    "&emsp;&emsp;初始时，三个小球的位置分别为4, 6, 8。\n",
    "\n",
    "![img-201803-2-1](images/201803-2-1.png)\n",
    "\n",
    "&emsp;&emsp;一秒后，三个小球的位置分别为5, 7, 9。\n",
    "\n",
    "![img-201803-2-2](images/201803-2-2.png)\n",
    "\n",
    "&emsp;&emsp;两秒后，第三个小球碰到墙壁，速度反向，三个小球位置分别为6, 8, 10。\n",
    "\n",
    "![img-201803-2-3](images/201803-2-3.png)\n",
    "\n",
    "&emsp;&emsp;三秒后，第二个小球与第三个小球在位置9发生碰撞，速度反向（注意碰撞位置不一定为偶数），三个小球位置分别为7, 9, 9。\n",
    "\n",
    "![img-201803-2-4](images/201803-2-4.png)\n",
    "\n",
    "&emsp;&emsp;四秒后，第一个小球与第二个小球在位置8发生碰撞，速度反向，第三个小球碰到墙壁，速度反向，三个小球位置分别为8, 8, 10。\n",
    "\n",
    "![img-201803-2-5](images/201803-2-5.png)\n",
    "\n",
    "&emsp;&emsp;五秒后，三个小球的位置分别为7, 9, 9。\n",
    "\n",
    "![img-201803-2-6](images/201803-2-6.png)\n"
   ]
  },
  {
   "cell_type": "markdown",
   "metadata": {},
   "source": [
    "### 样例输入\n",
    "<pre>\n",
    "10 22 30\n",
    "14 12 16 6 10 2 8 20 18 4\n",
    "</pre>"
   ]
  },
  {
   "cell_type": "markdown",
   "metadata": {
    "toc-hr-collapsed": false
   },
   "source": [
    "### 样例输出\n",
    "<pre>\n",
    "6 6 8 2 4 0 4 12 10 2\n",
    "</pre>"
   ]
  },
  {
   "cell_type": "markdown",
   "metadata": {},
   "source": [
    "### 评测用例规模与约定\n",
    "&emsp;&emsp;对于所有评测用例，1 ≤ n ≤ 100，1 ≤ t ≤ 100，2 ≤ L ≤ 1000，0 < ai < L。L为偶数。\n",
    "\n",
    "&emsp;&emsp;保证所有小球的初始位置互不相同且均为偶数。\n"
   ]
  },
  {
   "cell_type": "code",
   "execution_count": null,
   "metadata": {},
   "outputs": [],
   "source": []
  }
 ],
 "metadata": {
  "kernelspec": {
   "display_name": "Python 3",
   "language": "python",
   "name": "python3"
  },
  "language_info": {
   "codemirror_mode": {
    "name": "ipython",
    "version": 3
   },
   "file_extension": ".py",
   "mimetype": "text/x-python",
   "name": "python",
   "nbconvert_exporter": "python",
   "pygments_lexer": "ipython3",
   "version": "3.7.3"
  }
 },
 "nbformat": 4,
 "nbformat_minor": 4
}

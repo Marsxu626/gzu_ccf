{
 "cells": [
  {
   "cell_type": "markdown",
   "metadata": {},
   "source": [
    "# 日期计算"
   ]
  },
  {
   "cell_type": "markdown",
   "metadata": {},
   "source": [
    "## 时间限制\n",
    "1.0s"
   ]
  },
  {
   "cell_type": "markdown",
   "metadata": {},
   "source": [
    "## 内存限制\n",
    "256.0MB"
   ]
  },
  {
   "cell_type": "markdown",
   "metadata": {
    "toc-hr-collapsed": false
   },
   "source": [
    "## 问题描述\n",
    "&emsp;&emsp;给定一个年份y和一个整数d，问这一年的第d天是几月几日？\n",
    "\n",
    "&emsp;&emsp;注意闰年的2月有29天。满足下面条件之一的是闰年：\n",
    "\n",
    "&emsp;&emsp;1） 年份是4的整数倍，而且不是100的整数倍；\n",
    "\n",
    "&emsp;&emsp;2） 年份是400的整数倍。\n"
   ]
  },
  {
   "cell_type": "markdown",
   "metadata": {},
   "source": [
    "### 输入格式\n",
    "&emsp;&emsp;输入的第一行包含一个整数y，表示年份，年份在1900到2015之间（包含1900和2015）。\n",
    "\n",
    "&emsp;&emsp;输入的第二行包含一个整数d，d在1至365之间。\n"
   ]
  },
  {
   "cell_type": "markdown",
   "metadata": {},
   "source": [
    "### 输出格式\n",
    "&emsp;&emsp;输出两行，每行一个整数，分别表示答案的月份和日期。\n"
   ]
  },
  {
   "cell_type": "markdown",
   "metadata": {},
   "source": [
    "### 样例输入\n",
    "<pre>\n",
    "2015\n",
    "80\n",
    "</pre>"
   ]
  },
  {
   "cell_type": "markdown",
   "metadata": {
    "toc-hr-collapsed": false
   },
   "source": [
    "### 样例输出\n",
    "<pre>\n",
    "3\n",
    "21\n",
    "</pre>"
   ]
  },
  {
   "cell_type": "markdown",
   "metadata": {},
   "source": [
    "### 样例输入\n",
    "<pre>\n",
    "2000\n",
    "40\n",
    "</pre>"
   ]
  },
  {
   "cell_type": "markdown",
   "metadata": {
    "toc-hr-collapsed": false
   },
   "source": [
    "### 样例输出\n",
    "<pre>\n",
    "2\n",
    "9\n",
    "</pre>"
   ]
  },
  {
   "cell_type": "code",
   "execution_count": 3,
   "metadata": {},
   "outputs": [
    {
     "name": "stdin",
     "output_type": "stream",
     "text": [
      " 2015\n",
      " 80\n"
     ]
    }
   ],
   "source": [
    "import time\n",
    "year = int(input())\n",
    "days = int(input())"
   ]
  },
  {
   "cell_type": "code",
   "execution_count": 9,
   "metadata": {},
   "outputs": [
    {
     "name": "stdout",
     "output_type": "stream",
     "text": [
      "3\n",
      "21\n"
     ]
    }
   ],
   "source": [
    "\n",
    "print( int(time.strftime(\"%m\", time.strptime('%s %s'%(year, days), \"%Y %j\"))) )\n",
    "print( int(time.strftime(\"%d\", time.strptime('%s %s'%(year, days), \"%Y %j\"))) )\n"
   ]
  }
 ],
 "metadata": {
  "kernelspec": {
   "display_name": "Python 3",
   "language": "python",
   "name": "python3"
  },
  "language_info": {
   "codemirror_mode": {
    "name": "ipython",
    "version": 3
   },
   "file_extension": ".py",
   "mimetype": "text/x-python",
   "name": "python",
   "nbconvert_exporter": "python",
   "pygments_lexer": "ipython3",
   "version": "3.6.9"
  }
 },
 "nbformat": 4,
 "nbformat_minor": 4
}

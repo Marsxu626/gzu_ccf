{
 "cells": [
  {
   "cell_type": "markdown",
   "metadata": {},
   "source": [
    "# 最佳文章"
   ]
  },
  {
   "cell_type": "markdown",
   "metadata": {},
   "source": [
    "## 时间限制\n",
    "1.0s"
   ]
  },
  {
   "cell_type": "markdown",
   "metadata": {},
   "source": [
    "## 内存限制\n",
    "256.0MB"
   ]
  },
  {
   "cell_type": "markdown",
   "metadata": {
    "toc-hr-collapsed": false
   },
   "source": [
    "## 问题描述\n",
    "&emsp;&emsp;小明最近在研究一门新的语言，叫做Q语言。Q语言单词和文章都可以用且仅用只含有小写英文字母的字符串表示，任何由这些字母组成的字符串也都是一篇合法的Q语言文章。\n",
    "\n",
    "&emsp;&emsp;在Q语言的所有单词中，小明选出了他认为最重要的n个。使用这些单词，小明可以评价一篇Q语言文章的“重要度”。\n",
    "\n",
    "&emsp;&emsp;文章“重要度”的定义为：在该文章中，所有重要的Q语言单词出现次数的总和。其中多次出现的单词，不论是否发生包含、重叠等情况，每次出现均计算在内。\n",
    "\n",
    "&emsp;&emsp;例如，假设n = 2，小明选出的单词是gvagv和agva。在文章gvagvagvagv中，gvagv出现了3次，agva出现了2次，因此这篇文章的重要度为3+2=5。\n",
    "\n",
    "&emsp;&emsp;现在，小明想知道，一篇由m个字母组成的Q语言文章，重要度最高能达到多少。\n"
   ]
  },
  {
   "cell_type": "markdown",
   "metadata": {},
   "source": [
    "### 输入格式\n",
    "&emsp;&emsp;输入的第一行包含两个整数n, m，表示小明选出的单词个数和最终文章包含的字母个数。\n",
    "\n",
    "&emsp;&emsp;接下来n行，每行包含一个仅由英文小写字母构成的字符串，表示小明选出的这n个单词。\n"
   ]
  },
  {
   "cell_type": "markdown",
   "metadata": {},
   "source": [
    "### 输出格式\n",
    "&emsp;&emsp;输出一行一个整数，表示由m个字母组成的Q语言文章中，重要度最高的文章的重要度。\n"
   ]
  },
  {
   "cell_type": "markdown",
   "metadata": {},
   "source": [
    "### 样例输入\n",
    "<pre>\n",
    "3 15\n",
    "agva\n",
    "agvagva\n",
    "gvagva\n",
    "</pre>"
   ]
  },
  {
   "cell_type": "markdown",
   "metadata": {
    "toc-hr-collapsed": false
   },
   "source": [
    "### 样例输出\n",
    "<pre>\n",
    "11\n",
    "</pre>"
   ]
  },
  {
   "cell_type": "markdown",
   "metadata": {},
   "source": [
    "### 样例说明\n",
    "&emsp;&emsp;15个字母组成的重要度最高的文章为gvagvagvagvagva。\n",
    "\n",
    "&emsp;&emsp;在这篇文章中，agva出现4次，agvagva出现3次，gvagva出现4次，共计4+3+4=11次。\n"
   ]
  },
  {
   "cell_type": "markdown",
   "metadata": {},
   "source": [
    "### 评测用例规模与约定\n",
    "&emsp;&emsp;在评测时将使用10个评测用例对你的程序进行评测。\n",
    "\n",
    "&emsp;&emsp;设s为构成n个重要单词字母的总个数，例如在样例中，s=4+7+6=17；a为构成n个重要单词字母的种类数，例如在样例中，共有3中字母'a','g','v'，因此a=3。\n",
    "\n",
    "&emsp;&emsp;评测用例1和2满足2 ≤ n ≤ 3，1500 ≤ m ≤ 2000，s = 40；\n",
    "\n",
    "&emsp;&emsp;评测用例3和4满足m = 20，2 ≤ a ≤ 3；\n",
    "\n",
    "&emsp;&emsp;评测用例5、6和7满足2000 ≤ m ≤ 100000；\n",
    "\n",
    "&emsp;&emsp;评测用例8满足n = 2；\n",
    "\n",
    "&emsp;&emsp;所有的评测用例满足1 ≤ s ≤ 100，1 ≤ m ≤ 1015，每个单词至少包含1个字母，保证单词中仅出现英文小写字母，输入中不含多余字符，不会出现重复的单词。\n"
   ]
  },
  {
   "cell_type": "code",
   "execution_count": null,
   "metadata": {},
   "outputs": [],
   "source": []
  }
 ],
 "metadata": {
  "kernelspec": {
   "display_name": "Python 3",
   "language": "python",
   "name": "python3"
  },
  "language_info": {
   "codemirror_mode": {
    "name": "ipython",
    "version": 3
   },
   "file_extension": ".py",
   "mimetype": "text/x-python",
   "name": "python",
   "nbconvert_exporter": "python",
   "pygments_lexer": "ipython3",
   "version": "3.6.9"
  }
 },
 "nbformat": 4,
 "nbformat_minor": 4
}

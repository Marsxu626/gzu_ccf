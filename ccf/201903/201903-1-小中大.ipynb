{
 "cells": [
  {
   "cell_type": "markdown",
   "metadata": {},
   "source": [
    "# 小中大"
   ]
  },
  {
   "cell_type": "markdown",
   "metadata": {},
   "source": [
    "## 时间限制\n",
    "1.0s"
   ]
  },
  {
   "cell_type": "markdown",
   "metadata": {},
   "source": [
    "## 内存限制\n",
    "512.0MB"
   ]
  },
  {
   "cell_type": "markdown",
   "metadata": {
    "toc-hr-collapsed": false
   },
   "source": [
    "## 问题描述\n",
    "\n",
    "![img-201903-1-1](images/201903-1-1.png)\n",
    "![img-201903-1-2](images/201903-1-2.png)"
   ]
  },
  {
   "cell_type": "markdown",
   "metadata": {},
   "source": [
    "### 样例输入\n",
    "<pre>\n",
    "3\n",
    "-1 2 4\n",
    "</pre>"
   ]
  },
  {
   "cell_type": "markdown",
   "metadata": {
    "toc-hr-collapsed": false
   },
   "source": [
    "### 样例输出\n",
    "<pre>\n",
    "4 2 -1\n",
    "</pre>"
   ]
  },
  {
   "cell_type": "markdown",
   "metadata": {},
   "source": [
    "### 样例输入\n",
    "<pre>\n",
    "4\n",
    "-2 -1 3 4\n",
    "</pre>"
   ]
  },
  {
   "cell_type": "markdown",
   "metadata": {
    "toc-hr-collapsed": false
   },
   "source": [
    "### 样例输出\n",
    "<pre>\n",
    "4 1 -2\n",
    "</pre>"
   ]
  },
  {
   "cell_type": "code",
   "execution_count": 1,
   "metadata": {},
   "outputs": [],
   "source": [
    "def median(data):\n",
    "    data.sort()\n",
    "    half = len(data) // 2\n",
    "    return (data[half] + data[~half])/2"
   ]
  },
  {
   "cell_type": "code",
   "execution_count": 4,
   "metadata": {},
   "outputs": [
    {
     "name": "stdin",
     "output_type": "stream",
     "text": [
      " 3\n",
      " -1 2 4\n"
     ]
    },
    {
     "name": "stdout",
     "output_type": "stream",
     "text": [
      "4 2 -1\n"
     ]
    }
   ],
   "source": [
    "n = int(input())\n",
    "l = input().split(' ')\n",
    "if n != len(l):\n",
    "    exit()\n",
    "for i in range(len(l)):\n",
    "    l[i] = int(l[i])\n",
    "r = [max(l),median(l),min(l)]\n",
    "\n",
    "print('{:g}'.format(r[0]),end=' ')\n",
    "if int(r[1]) == r[1] :\n",
    "    print('{:g}'.format(r[1]),end=' ')\n",
    "else:\n",
    "    print('{:.1f}'.format(r[1]),end=' ')\n",
    "print('{:g}'.format(r[2]))"
   ]
  },
  {
   "cell_type": "code",
   "execution_count": 12,
   "metadata": {},
   "outputs": [
    {
     "name": "stdin",
     "output_type": "stream",
     "text": [
      " 4\n",
      " -2 -1 3 4\n"
     ]
    },
    {
     "name": "stdout",
     "output_type": "stream",
     "text": [
      "4 3 -2\n"
     ]
    }
   ],
   "source": [
    "def median(data):\n",
    "    half = len(data) // 2\n",
    "    return (data[half] + data[~half])/2\n",
    "\n",
    "n = int(input())\n",
    "l = input().split(' ')\n",
    "\n",
    "for i in range(n):\n",
    "    l[i] = int(l[i])\n",
    "r = [max(l),median(l),min(l)]\n",
    "r = sorted(r)\n",
    "\n",
    "if int(r[1]) == r[1] : \n",
    "    r[1] = int(r[1])\n",
    "print(\"{} {} {}\".format(r[2],r[1],r[0]))\n",
    "\n",
    "# print('{:g}'.format(r[2]),end=' ')\n",
    "# if int(r[1]) == r[1] :\n",
    "#     print('{:g}'.format(r[1]),end=' ')\n",
    "# else:\n",
    "#     print('{:.1f}'.format(r[1]),end=' ')\n",
    "# print('{:g}'.format(r[0]))\n",
    "\n"
   ]
  },
  {
   "cell_type": "code",
   "execution_count": 14,
   "metadata": {},
   "outputs": [
    {
     "name": "stdin",
     "output_type": "stream",
     "text": [
      " 4\n",
      " -2 -1 3 4\n"
     ]
    },
    {
     "name": "stdout",
     "output_type": "stream",
     "text": [
      "4 1 -2\n"
     ]
    }
   ],
   "source": [
    "n = int(input())\n",
    "data = [int(i) for i in input().split()]\n",
    "Max = max(data)\n",
    "Min = min(data)\n",
    "half = len(data) // 2\n",
    "Mid = (data[half] + data[~half])/2 #这里Mid是浮点数\n",
    " \n",
    "if(int(Mid) == Mid): \n",
    "    Mid = int(Mid)\n",
    "print(\"{} {} {}\".format(Max,Mid,Min))\n",
    "\n"
   ]
  },
  {
   "cell_type": "code",
   "execution_count": null,
   "metadata": {},
   "outputs": [],
   "source": []
  }
 ],
 "metadata": {
  "kernelspec": {
   "display_name": "Python 3",
   "language": "python",
   "name": "python3"
  },
  "language_info": {
   "codemirror_mode": {
    "name": "ipython",
    "version": 3
   },
   "file_extension": ".py",
   "mimetype": "text/x-python",
   "name": "python",
   "nbconvert_exporter": "python",
   "pygments_lexer": "ipython3",
   "version": "3.7.3"
  }
 },
 "nbformat": 4,
 "nbformat_minor": 4
}

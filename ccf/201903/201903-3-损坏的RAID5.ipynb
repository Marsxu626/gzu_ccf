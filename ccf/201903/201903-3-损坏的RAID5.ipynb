{
 "cells": [
  {
   "cell_type": "markdown",
   "metadata": {},
   "source": [
    "# 损坏的RAID5"
   ]
  },
  {
   "cell_type": "markdown",
   "metadata": {},
   "source": [
    "## 时间限制\n",
    "1.0s"
   ]
  },
  {
   "cell_type": "markdown",
   "metadata": {},
   "source": [
    "## 内存限制\n",
    "512.0MB"
   ]
  },
  {
   "cell_type": "markdown",
   "metadata": {
    "toc-hr-collapsed": false
   },
   "source": [
    "## 问题描述\n",
    "\n",
    "![img-201903-3-1](images/201903-3-1.png)\n",
    "![img-201903-3-2](images/201903-3-2.png)\n",
    "![img-201903-3-3](images/201903-3-3.png)\n",
    "![img-201903-3-4](images/201903-3-4.png)\n",
    "![img-201903-3-5](images/201903-3-5.png)\n"
   ]
  },
  {
   "cell_type": "markdown",
   "metadata": {},
   "source": [
    "### 样例输入\n",
    "<pre>\n",
    "2 1 2\n",
    "0 000102030405060710111213141516172021222324252627\n",
    "1 000102030405060710111213141516172021222324252627\n",
    "2\n",
    "0\n",
    "1\n",
    "</pre>"
   ]
  },
  {
   "cell_type": "markdown",
   "metadata": {
    "toc-hr-collapsed": false
   },
   "source": [
    "### 样例输出\n",
    "<pre>\n",
    "00010203\n",
    "04050607\n",
    "</pre>"
   ]
  },
  {
   "cell_type": "markdown",
   "metadata": {},
   "source": [
    "### 样例输入\n",
    "<pre>\n",
    "3 2 2\n",
    "0 000102030405060710111213141516172021222324252627\n",
    "1 A0A1A2A3A4A5A6A7B0B1B2B3B4B5B6B7C0C1C2C3C4C5C6C7\n",
    "2\n",
    "2\n",
    "5\n",
    "</pre>"
   ]
  },
  {
   "cell_type": "markdown",
   "metadata": {
    "toc-hr-collapsed": false
   },
   "source": [
    "### 样例输出\n",
    "<pre>\n",
    "A0A1A2A3\n",
    "A0A0A0A0\n",
    "</pre>"
   ]
  },
  {
   "cell_type": "code",
   "execution_count": 2,
   "metadata": {},
   "outputs": [
    {
     "data": {
      "text/plain": [
       "'0xa0a0a0a0'"
      ]
     },
     "execution_count": 2,
     "metadata": {},
     "output_type": "execute_result"
    }
   ],
   "source": [
    "hex(0x14151617^0xB4B5B6B7)"
   ]
  },
  {
   "cell_type": "code",
   "execution_count": 3,
   "metadata": {},
   "outputs": [
    {
     "data": {
      "text/plain": [
       "48"
      ]
     },
     "execution_count": 3,
     "metadata": {},
     "output_type": "execute_result"
    }
   ],
   "source": [
    "len(\"000102030405060710111213141516172021222324252627\")"
   ]
  },
  {
   "cell_type": "code",
   "execution_count": 8,
   "metadata": {},
   "outputs": [
    {
     "name": "stdin",
     "output_type": "stream",
     "text": [
      " 3 2 2\n",
      " 0 000102030405060710111213141516172021222324252627\n",
      " 1 A0A1A2A3A4A5A6A7B0B1B2B3B4B5B6B7C0C1C2C3C4C5C6C7\n"
     ]
    },
    {
     "name": "stdout",
     "output_type": "stream",
     "text": [
      "0 000102030405060710111213141516172021222324252627\n",
      "1 A0A1A2A3A4A5A6A7B0B1B2B3B4B5B6B7C0C1C2C3C4C5C6C7\n",
      "2 \n"
     ]
    }
   ],
   "source": [
    "n,s,l = [int(i) for i in input().split()]\n",
    "\n",
    "disks = []\n",
    "for i in range(n):\n",
    "    disks.append('')\n",
    "for i in range(l):\n",
    "    disk_id,data = input().split()\n",
    "    disk_id = int(disk_id)\n",
    "    disks[disk_id] = data\n",
    "\n",
    "for i in range(n):\n",
    "    print(i,disks[i])"
   ]
  },
  {
   "cell_type": "markdown",
   "metadata": {},
   "source": [
    "# 以下是网上找到的 c/c++ 语言版的解法\n",
    "\n",
    "[https://www.cnblogs.com/acboyty/p/11358675.html](https://www.cnblogs.com/acboyty/p/11358675.html)\n",
    "\n",
    "<code>\n",
    "#include &lt;bits/stdc++.h>\n",
    "const int maxn = 1000;\n",
    "const int maxm = 40960;\n",
    "\n",
    "using namespace std;\n",
    "\n",
    "char disk[maxn+10][maxm*2+10];\n",
    "int vis[maxn+10];\n",
    "int len, got = 0;\n",
    "\n",
    "int main()\n",
    "{\n",
    "    int n, s, l;\n",
    "    scanf(\"%d%d%d\", &n, &s, &l);\n",
    "\n",
    "    memset(vis, 0, sizeof(vis));\n",
    "    for (int i = 1, x; i <= l; i++)\n",
    "    {\n",
    "        scanf(\"%d \", &x);\n",
    "        vis[x] = 1;\n",
    "        fgets(disk[x], maxm*2 + 10, stdin);\n",
    "        if (!got)\n",
    "        {\n",
    "            len = strlen(disk[x]) / 8 / s - 1;\n",
    "            got = 1;\n",
    "        }\n",
    "    }\n",
    "\n",
    "    int m;\n",
    "    scanf(\"%d\", &m);\n",
    "    while (m--)\n",
    "    {\n",
    "        int b;\n",
    "        scanf(\"%d\", &b);\n",
    "        int stripe = b / s;\n",
    "        int k = stripe / (n-1);\n",
    "        int diskNum = (n - k%n + stripe % (n-1)) % n;\n",
    "        if (k > len || (n-l >= 2 && !vis[diskNum]))\n",
    "        {\n",
    "            printf(\"-\\n\");\n",
    "        }\n",
    "        else\n",
    "        {\n",
    "            int st = (k*s + b%s) * 8, en = st + 7;\n",
    "            if (vis[diskNum])\n",
    "            {\n",
    "                for (int i = st; i <= en; i++)\n",
    "                    printf(\"%c\", disk[diskNum][i]);\n",
    "                printf(\"\\n\");\n",
    "            }\n",
    "            else\n",
    "            {\n",
    "                for (int i = st; i <= en; i++)\n",
    "                {\n",
    "                    int ans = 0;\n",
    "                    for (int j = 0, tmp; j <= n-1; j++)\n",
    "                    {\n",
    "                        if (j != diskNum)\n",
    "                        {\n",
    "                            if (disk[j][i] >= '0' && disk[j][i] <= '9')\n",
    "                            {\n",
    "                                tmp = disk[j][i] - '0';\n",
    "                            }\n",
    "                            else\n",
    "                            {\n",
    "                                tmp = disk[j][i] - 'A' + 10;\n",
    "                            }\n",
    "                            ans ^= tmp;\n",
    "                        }\n",
    "                    }\n",
    "                    printf(\"%X\", ans);\n",
    "                }\n",
    "                printf(\"\\n\");\n",
    "            }\n",
    "        }\n",
    "    }\n",
    "\n",
    "    return 0;\n",
    "}\n",
    "</code>\n",
    "\n",
    "\n",
    "\n",
    "[https://www.cnblogs.com/ikesnowy/p/11301018.html](http://cache.baiducontent.com/c?m=9d78d513d99210fb4fede57e0f15dc64184381132bd7a6027ea4925f9315190a013cbee73365505adc9f3a2143ee5e5d99ed2b37724637b7ec99d41a83e6c769388850652d439b1a4b8458f396036edc628d59eaae1be4b8f33884aea589990b0d&p=8b2a9714879801b310bd9b7e0d1795&newp=882a9545d7915fb51fb1c7710f44cc231610db2151d6d0106b82c825d7331b001c3bbfb423271105d3c678620aae4259effb3076350923a3dda5c91d9fb4c57479da392e3740&user=baidu&fm=sc&query=ccf+201903%2D3+python&qid=fa386056005c9214&p1=4)\n",
    "\n",
    "<code>\n",
    "#include&lt;cstdio>\n",
    "#include&lt;algorithm>\n",
    "#include&lt;iostream>\n",
    "using namespace std;\n",
    "typedef long long ll;\n",
    "const int M=10240*8+1;\n",
    "const int N=1000;\n",
    "char ss[N][M];\n",
    "int main()\n",
    "{\n",
    "    //freopen(\"in.txt\",\"r\",stdin);\n",
    "    int n,s,l;\n",
    "    scanf(\"%d%d%d\",&n,&s,&l);\n",
    "    for(int i=0; i &lt; l ; i++ ){\n",
    "        int x;\n",
    "        scanf(\"%d%*c\",&x);\n",
    "        fgets(ss[x],M,stdin);//gets(ss[x]);\n",
    "    }\n",
    "    int m;\n",
    "    scanf(\"%d\",&m);\n",
    "    while(m--){\n",
    "        ll b;\n",
    "        scanf(\"%lld\",&b);\n",
    "        ll t=n-1+b/s/(n-1)*(n-1)+b/s%(n-1)+1,k=(b/s/(n-1)*s+b%s)*8;t%=n;\n",
    "        if( k>=M || ss[t][0]==0 && l &lt; n-1 || ss[0][k]==0 && ss[1][k]==0 && ss[t][k]==0){\n",
    "            printf(\"-\\n\");\n",
    "            continue;\n",
    "        }\n",
    "        if(ss[t][0]==0){\n",
    "            ll ans=0;\n",
    "            for(int i=0; i &lt; n ;i++){\n",
    "                if(i==t)continue;\n",
    "                ll x;\n",
    "                sscanf(ss[i]+k,\"%8x\",&x);\n",
    "                ans^=x;\n",
    "            }\n",
    "            printf(\"%08X\\n\",ans);\n",
    "        }\n",
    "        else{\n",
    "            ll ans;\n",
    "            sscanf(ss[t]+k,\"%8x\",&ans);\n",
    "            printf(\"%08X\\n\",ans);\n",
    "        }\n",
    "    }\n",
    "    return 0;\n",
    "}\n",
    "</code>\n",
    "\n",
    "\n",
    "\n",
    "[https://blog.csdn.net/weixin_45312990/article/details/93638308](https://blog.csdn.net/weixin_45312990/article/details/93638308)\n",
    "\n",
    "<code>\n",
    "#include &lt;iostream>\n",
    "using namespace std;\n",
    " \n",
    "const int N = 1e3;\n",
    "const string base = \"0123456789ABCDEF\";\n",
    "string disks[N];\n",
    "int n, s, l;\n",
    " \n",
    "// 16进制字符转10进制数字 \n",
    "int to_int(char ch){\n",
    "\tif(ch >= '0' && ch <= '9'){\n",
    "\t\treturn ch - '0';\n",
    "\t}else{\n",
    "\t\treturn ch - 'A' + 10;\n",
    "\t}\n",
    "}\n",
    " \n",
    "// 异或运算 \n",
    "void _xor(string& ans, string str){\n",
    "\tfor(int i = 0; i < str.size(); ++i){\n",
    "\t\tint x = to_int(ans[i]);\n",
    "\t\tint y = to_int(str[i]);\t\t\t\t\t\t\t\t\n",
    "\t\tans[i] = base[(x^y)];\n",
    "\t}\n",
    "}\n",
    " \n",
    "// 将除了disk编号以外的硬盘对应的块进行异或运算 \n",
    "string do_xor(int disk, int start){\n",
    "\tstring ans(8, '0');\n",
    "\tfor(int i = 0; i <= n; ++i){\n",
    "\t\tif(i != disk){\n",
    "\t\t\t_xor(ans, disks[i].substr(start, 8));\n",
    "\t\t}\n",
    "\t}\n",
    "\treturn ans;\n",
    "}\n",
    " \n",
    "int main(){\t\t\t\t\t\n",
    " \n",
    "\t// n 硬盘数目  s 条带大小  l 现存硬盘数目 \t\n",
    "\tcin >> n >> s >> l;\n",
    "\t\n",
    "\tn -= 1;// n块数据盘，1块冗余 \n",
    "\tstring line;\t\n",
    "\tint i = 0, k, id, max_k, b, t, rd, disk;// b 块编号, t 总条带号, k 当前磁盘上的条带号, rd 第k排上冗余块的位置, disk 目标块所在的磁盘编号\n",
    "\twhile(i++ < l){\t\n",
    "\t\t// 记录每个硬盘的数据 \n",
    "\t\tcin >> id;\n",
    "\t\tcin >> disks[id];\n",
    "\t\tmax_k = disks[id].size() / 8 / s;\t\t\n",
    "\t}\n",
    "\t\t\t\n",
    "\ti = 0;\n",
    "\tint m, start;// 起始位置 \n",
    "\tcin >> m;\n",
    "\t// 通过 b 块编号 求出 对应的磁盘位置的 数据 \n",
    "\twhile(i++ < m){\n",
    "\t\tcin >> b;\n",
    "\t\tt = b / s;\n",
    "\t\tk = t % n - 1;\n",
    "\t\trd = n - k % (n+1);\t\t\n",
    "\t\tdisk = (rd + t%n + 1)%(n+1);\n",
    "\t\t\n",
    "\t\tif(k > max_k){\n",
    "\t\t\t// 超出范围 \n",
    "\t\t\tcout << '-' << endl;\n",
    "\t\t}else if(disks[disk].size() != 0){\n",
    "\t\t\t// 找得到那块磁盘 \n",
    "\t\t\tstart = 8 * (k * s + b % s);\n",
    "\t\t\tcout << disks[disk].substr(start, 8) << endl;\n",
    "\t\t}else if(disks[disk].size() == 0 && l == n){\n",
    "\t\t\t// 找不到那块磁盘, 需要做异或操作 \n",
    "\t\t\tstart = 8 * (k * s + b % s);\n",
    "\t\t\tcout << do_xor(disk, start) << \"\\n\";\n",
    "\t\t}else{\n",
    "\t\t\t// 无法推算 \n",
    "\t\t\tcout << '-' << endl;\n",
    "\t\t}\n",
    "\t}\t\n",
    "\treturn 0;\n",
    "}\n",
    "</code>"
   ]
  },
  {
   "cell_type": "code",
   "execution_count": null,
   "metadata": {},
   "outputs": [],
   "source": []
  }
 ],
 "metadata": {
  "kernelspec": {
   "display_name": "Python 3",
   "language": "python",
   "name": "python3"
  },
  "language_info": {
   "codemirror_mode": {
    "name": "ipython",
    "version": 3
   },
   "file_extension": ".py",
   "mimetype": "text/x-python",
   "name": "python",
   "nbconvert_exporter": "python",
   "pygments_lexer": "ipython3",
   "version": "3.7.3"
  }
 },
 "nbformat": 4,
 "nbformat_minor": 4
}

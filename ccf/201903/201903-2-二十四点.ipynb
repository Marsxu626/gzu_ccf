{
 "cells": [
  {
   "cell_type": "markdown",
   "metadata": {},
   "source": [
    "# 二十四点"
   ]
  },
  {
   "cell_type": "markdown",
   "metadata": {},
   "source": [
    "## 时间限制\n",
    "1.0s"
   ]
  },
  {
   "cell_type": "markdown",
   "metadata": {},
   "source": [
    "## 内存限制\n",
    "512.0MB"
   ]
  },
  {
   "cell_type": "markdown",
   "metadata": {
    "toc-hr-collapsed": false
   },
   "source": [
    "## 问题描述\n",
    "\n",
    "![img-201903-2-1](images/201903-2-1.png)\n",
    "![img-201903-2-2](images/201903-2-2.png)\n"
   ]
  },
  {
   "cell_type": "markdown",
   "metadata": {},
   "source": [
    "### 样例输入\n",
    "<pre>\n",
    "10\n",
    "9+3+4x3\n",
    "5+4x5x5\n",
    "7-9-9+8\n",
    "5x6/5x4\n",
    "3+5+7+9\n",
    "1x1+9-9\n",
    "1x9-5/9\n",
    "8/5+6x9\n",
    "6x7-3x6\n",
    "6x4+4/5\n",
    "</pre>"
   ]
  },
  {
   "cell_type": "markdown",
   "metadata": {
    "toc-hr-collapsed": false
   },
   "source": [
    "### 样例输出\n",
    "<pre>\n",
    "Yes\n",
    "No\n",
    "No\n",
    "Yes\n",
    "No\n",
    "No\n",
    "No\n",
    "Yes\n",
    "Yes\n",
    "</pre>"
   ]
  },
  {
   "cell_type": "code",
   "execution_count": 1,
   "metadata": {},
   "outputs": [
    {
     "name": "stdin",
     "output_type": "stream",
     "text": [
      " 3\n",
      " 9+3+4x3\n",
      " 5+4x5x5\n",
      " 7-9-9+8\n"
     ]
    },
    {
     "name": "stdout",
     "output_type": "stream",
     "text": [
      "Yes\n",
      "No\n",
      "No\n"
     ]
    }
   ],
   "source": [
    "n = int(input().strip())\n",
    "result = []\n",
    "for i in range(n):\n",
    "    temp = input().strip()\n",
    "    temp = temp.replace(\"/\",\"//\")  # 将/替换为//\n",
    "    temp = temp.replace(\"x\",'*')   # 将x替换为*\n",
    "    if eval(temp) == 24:    # eval() 函数是 python 内置的算数表达式计算工具\n",
    "        result.append(\"Yes\")\n",
    "    else:\n",
    "        result.append(\"No\")\n",
    "print(\"\\n\".join(result))\n"
   ]
  },
  {
   "cell_type": "code",
   "execution_count": null,
   "metadata": {},
   "outputs": [],
   "source": []
  }
 ],
 "metadata": {
  "kernelspec": {
   "display_name": "Python 3",
   "language": "python",
   "name": "python3"
  },
  "language_info": {
   "codemirror_mode": {
    "name": "ipython",
    "version": 3
   },
   "file_extension": ".py",
   "mimetype": "text/x-python",
   "name": "python",
   "nbconvert_exporter": "python",
   "pygments_lexer": "ipython3",
   "version": "3.7.3"
  }
 },
 "nbformat": 4,
 "nbformat_minor": 4
}

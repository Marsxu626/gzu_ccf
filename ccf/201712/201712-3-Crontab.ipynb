{
 "cells": [
  {
   "cell_type": "markdown",
   "metadata": {},
   "source": [
    "# Crontab"
   ]
  },
  {
   "cell_type": "markdown",
   "metadata": {},
   "source": [
    "## 时间限制\n",
    "10.0s"
   ]
  },
  {
   "cell_type": "markdown",
   "metadata": {},
   "source": [
    "## 内存限制\n",
    "256.0MB"
   ]
  },
  {
   "cell_type": "markdown",
   "metadata": {
    "toc-hr-collapsed": false
   },
   "source": [
    "\n",
    "![img-201712-3-1](images/201712-3-1.png)\n",
    "\n",
    "![img-201712-3-2](images/201712-3-2.png)\n",
    "\n",
    "![img-201712-3-3](images/201712-3-3.png)\n",
    "\n",
    "![img-201712-3-4](images/201712-3-4.png)\n"
   ]
  },
  {
   "cell_type": "markdown",
   "metadata": {},
   "source": [
    "### 样例输入\n",
    "<pre>\n",
    "3 201711170032 201711222352\n",
    "0 7 * * 1,3-5 get_up\n",
    "30 23 * * Sat,Sun go_to_bed\n",
    "15 12,18 * * * have_dinner\n",
    "</pre>"
   ]
  },
  {
   "cell_type": "markdown",
   "metadata": {
    "toc-hr-collapsed": false
   },
   "source": [
    "### 样例输出\n",
    "<pre>\n",
    "201711170700 get_up\n",
    "201711171215 have_dinner\n",
    "201711171815 have_dinner\n",
    "201711181215 have_dinner\n",
    "201711181815 have_dinner\n",
    "201711182330 go_to_bed\n",
    "201711191215 have_dinner\n",
    "201711191815 have_dinner\n",
    "201711192330 go_to_bed\n",
    "201711200700 get_up\n",
    "201711201215 have_dinner\n",
    "201711201815 have_dinner\n",
    "201711211215 have_dinner\n",
    "201711211815 have_dinner\n",
    "201711220700 get_up\n",
    "201711221215 have_dinner\n",
    "201711221815 have_dinner\n",
    "</pre>"
   ]
  },
  {
   "cell_type": "code",
   "execution_count": null,
   "metadata": {},
   "outputs": [],
   "source": []
  }
 ],
 "metadata": {
  "kernelspec": {
   "display_name": "Python 3",
   "language": "python",
   "name": "python3"
  },
  "language_info": {
   "codemirror_mode": {
    "name": "ipython",
    "version": 3
   },
   "file_extension": ".py",
   "mimetype": "text/x-python",
   "name": "python",
   "nbconvert_exporter": "python",
   "pygments_lexer": "ipython3",
   "version": "3.7.3"
  }
 },
 "nbformat": 4,
 "nbformat_minor": 4
}

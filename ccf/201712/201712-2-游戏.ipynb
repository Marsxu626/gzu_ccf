{
 "cells": [
  {
   "cell_type": "markdown",
   "metadata": {},
   "source": [
    "# 游戏"
   ]
  },
  {
   "cell_type": "markdown",
   "metadata": {},
   "source": [
    "## 时间限制\n",
    "1.0s"
   ]
  },
  {
   "cell_type": "markdown",
   "metadata": {},
   "source": [
    "## 内存限制\n",
    "256.0MB"
   ]
  },
  {
   "cell_type": "markdown",
   "metadata": {
    "toc-hr-collapsed": false
   },
   "source": [
    "## 问题描述\n",
    "&emsp;&emsp;有n个小朋友围成一圈玩游戏，小朋友从1至n编号，2号小朋友坐在1号小朋友的顺时针方向，3号小朋友坐在2号小朋友的顺时针方向，……，1号小朋友坐在n号小朋友的顺时针方向。\n",
    "\n",
    "&emsp;&emsp;游戏开始，从1号小朋友开始顺时针报数，接下来每个小朋友的报数是上一个小朋友报的数加1。若一个小朋友报的数为k的倍数或其末位数（即数的个位）为k，则该小朋友被淘汰出局，不再参加以后的报数。当游戏中只剩下一个小朋友时，该小朋友获胜。\n",
    "\n",
    "&emsp;&emsp;例如，当n=5, k=2时：\n",
    "\n",
    "&emsp;&emsp;1号小朋友报数1；\n",
    "\n",
    "&emsp;&emsp;2号小朋友报数2淘汰；\n",
    "\n",
    "&emsp;&emsp;3号小朋友报数3；\n",
    "\n",
    "&emsp;&emsp;4号小朋友报数4淘汰；\n",
    "\n",
    "&emsp;&emsp;5号小朋友报数5；\n",
    "\n",
    "&emsp;&emsp;1号小朋友报数6淘汰；\n",
    "\n",
    "&emsp;&emsp;3号小朋友报数7；\n",
    "\n",
    "&emsp;&emsp;5号小朋友报数8淘汰；\n",
    "\n",
    "&emsp;&emsp;3号小朋友获胜。\n",
    "\n",
    "&emsp;&emsp;\n",
    "\n",
    "&emsp;&emsp;给定n和k，请问最后获胜的小朋友编号为多少？"
   ]
  },
  {
   "cell_type": "markdown",
   "metadata": {},
   "source": [
    "### 输入格式\n",
    "&emsp;&emsp;输入一行，包括两个整数n和k，意义如题目所述。\n"
   ]
  },
  {
   "cell_type": "markdown",
   "metadata": {},
   "source": [
    "### 输出格式\n",
    "&emsp;&emsp;输出一行，包含一个整数，表示获胜的小朋友编号。\n"
   ]
  },
  {
   "cell_type": "markdown",
   "metadata": {},
   "source": [
    "### 样例输入\n",
    "<pre>\n",
    "5 2\n",
    "</pre>"
   ]
  },
  {
   "cell_type": "markdown",
   "metadata": {
    "toc-hr-collapsed": false
   },
   "source": [
    "### 样例输出\n",
    "<pre>\n",
    "3\n",
    "</pre>"
   ]
  },
  {
   "cell_type": "markdown",
   "metadata": {},
   "source": [
    "### 样例输入\n",
    "<pre>\n",
    "7 3\n",
    "</pre>"
   ]
  },
  {
   "cell_type": "markdown",
   "metadata": {
    "toc-hr-collapsed": false
   },
   "source": [
    "### 样例输出\n",
    "<pre>\n",
    "4\n",
    "</pre>"
   ]
  },
  {
   "cell_type": "markdown",
   "metadata": {},
   "source": [
    "### 评测用例规模与约定\n",
    "&emsp;&emsp;对于所有评测用例，1 ≤ n ≤ 1000，1 ≤ k ≤ 9。\n"
   ]
  },
  {
   "cell_type": "code",
   "execution_count": 1,
   "metadata": {},
   "outputs": [
    {
     "name": "stdin",
     "output_type": "stream",
     "text": [
      " 5 2\n"
     ]
    },
    {
     "name": "stdout",
     "output_type": "stream",
     "text": [
      "3\n"
     ]
    }
   ],
   "source": [
    "n,k = [int(i) for i in input().split()]\n",
    "\n",
    "alive = [1 for i in range(n)]\n",
    "x = b = 0\n",
    "\n",
    "while sum(alive) !=1:\n",
    "    for j in range(n):\n",
    "        if alive[j] !=0:\n",
    "            x = x+1\n",
    "        if ((x) % k == 0 or (x - k) % 10 == 0):\n",
    "            alive[j] = 0\n",
    "        if sum(alive) == 1:\n",
    "            break\n",
    "\n",
    "for j in range(n):\n",
    "    if alive[j] ==1:\n",
    "        b = j\n",
    "\n",
    "print(b+1)"
   ]
  },
  {
   "cell_type": "code",
   "execution_count": null,
   "metadata": {},
   "outputs": [],
   "source": []
  }
 ],
 "metadata": {
  "kernelspec": {
   "display_name": "Python 3",
   "language": "python",
   "name": "python3"
  },
  "language_info": {
   "codemirror_mode": {
    "name": "ipython",
    "version": 3
   },
   "file_extension": ".py",
   "mimetype": "text/x-python",
   "name": "python",
   "nbconvert_exporter": "python",
   "pygments_lexer": "ipython3",
   "version": "3.7.3"
  }
 },
 "nbformat": 4,
 "nbformat_minor": 4
}

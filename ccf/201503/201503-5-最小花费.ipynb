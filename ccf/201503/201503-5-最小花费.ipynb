{
 "cells": [
  {
   "cell_type": "markdown",
   "metadata": {},
   "source": [
    "# 最小花费"
   ]
  },
  {
   "cell_type": "markdown",
   "metadata": {},
   "source": [
    "## 时间限制\n",
    "4.0s"
   ]
  },
  {
   "cell_type": "markdown",
   "metadata": {},
   "source": [
    "## 内存限制\n",
    "256.0MB"
   ]
  },
  {
   "cell_type": "markdown",
   "metadata": {
    "toc-hr-collapsed": false
   },
   "source": [
    "## 问题描述\n",
    "&emsp;&emsp;C国共有n个城市。有n-1条双向道路，每条道路连接两个城市，任意两个城市之间能互相到达。小R来到C国旅行，他共规划了m条旅行的路线，第i条旅行路线的起点是si，终点是ti。在旅行过程中，小R每行走一单位长度的路需要吃一单位的食物。C国的食物只能在各个城市中买到，而且不同城市的食物价格可能不同。\n",
    "\n",
    "&emsp;&emsp;然而，小R不希望在旅行中为了购买较低价的粮食而绕远路，因此他总会选择最近的路走。现在，请你计算小R规划的每条旅行路线的最小花费是多少。"
   ]
  },
  {
   "cell_type": "markdown",
   "metadata": {},
   "source": [
    "### 输入格式\n",
    "&emsp;&emsp;第一行包含2个整数n和m。\n",
    "\n",
    "&emsp;&emsp;第二行包含n个整数。第i个整数wi表示城市i的食物价格。\n",
    "\n",
    "&emsp;&emsp;接下来n-1行，每行包括3个整数u, v, e，表示城市u和城市v之间有一条长为e的双向道路。\n",
    "\n",
    "&emsp;&emsp;接下来m行，每行包含2个整数si和ti，分别表示一条旅行路线的起点和终点。\n"
   ]
  },
  {
   "cell_type": "markdown",
   "metadata": {},
   "source": [
    "### 输出格式\n",
    "&emsp;&emsp;输出m行，分别代表每一条旅行方案的最小花费。\n"
   ]
  },
  {
   "cell_type": "markdown",
   "metadata": {},
   "source": [
    "### 样例输入\n",
    "<pre>\n",
    "6 4\n",
    "1 7 3 2 5 6\n",
    "1 2 4\n",
    "1 3 5\n",
    "2 4 1\n",
    "3 5 2\n",
    "3 6 1\n",
    "2 5\n",
    "4 6\n",
    "6 4\n",
    "5 6\n",
    "</pre>"
   ]
  },
  {
   "cell_type": "markdown",
   "metadata": {
    "toc-hr-collapsed": false
   },
   "source": [
    "### 样例输出\n",
    "<pre>\n",
    "35\n",
    "16\n",
    "26\n",
    "13\n",
    "</pre>"
   ]
  },
  {
   "cell_type": "markdown",
   "metadata": {},
   "source": [
    "### 样例说明\n",
    "&emsp;&emsp;对于第一条路线，小R会经过2->1->3->5。其中在城市2处以7的价格购买4单位粮食，到城市1时全部吃完，并用1的价格购买7单位粮食，然后到达终点。\n"
   ]
  },
  {
   "cell_type": "markdown",
   "metadata": {},
   "source": [
    "### 评测用例规模与约定\n",
    "&emsp;&emsp;前10%的评测用例满足：n, m ≤ 20, wi ≤ 20；\n",
    "\n",
    "&emsp;&emsp;前30%的评测用例满足：n, m ≤ 200；\n",
    "\n",
    "&emsp;&emsp;另有40%的评测用例满足：一个城市至多与其它两个城市相连。\n",
    "\n",
    "&emsp;&emsp;所有评测用例都满足：1 ≤ n, m ≤ 105，1 ≤ wi ≤ 106，1 ≤ e ≤ 10000。\n"
   ]
  },
  {
   "cell_type": "code",
   "execution_count": null,
   "metadata": {},
   "outputs": [],
   "source": []
  }
 ],
 "metadata": {
  "kernelspec": {
   "display_name": "Python 3",
   "language": "python",
   "name": "python3"
  },
  "language_info": {
   "codemirror_mode": {
    "name": "ipython",
    "version": 3
   },
   "file_extension": ".py",
   "mimetype": "text/x-python",
   "name": "python",
   "nbconvert_exporter": "python",
   "pygments_lexer": "ipython3",
   "version": "3.6.9"
  }
 },
 "nbformat": 4,
 "nbformat_minor": 4
}

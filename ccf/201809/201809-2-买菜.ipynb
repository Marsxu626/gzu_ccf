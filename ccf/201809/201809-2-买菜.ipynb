{
 "cells": [
  {
   "cell_type": "markdown",
   "metadata": {},
   "source": [
    "# 买菜"
   ]
  },
  {
   "cell_type": "markdown",
   "metadata": {},
   "source": [
    "## 时间限制\n",
    "1.0s"
   ]
  },
  {
   "cell_type": "markdown",
   "metadata": {},
   "source": [
    "## 内存限制\n",
    "256.0MB"
   ]
  },
  {
   "cell_type": "markdown",
   "metadata": {
    "toc-hr-collapsed": false
   },
   "source": [
    "## 问题描述\n",
    "&emsp;&emsp;小H和小W来到了一条街上，两人分开买菜，他们买菜的过程可以描述为，去店里买一些菜然后去旁边的一个广场把菜装上车，两人都要买n种菜，所以也都要装n次车。具体的，对于小H来说有n个不相交的时间段$[a_1,b_1],[a_2,b_2]...[a_n,b_n]$在装车，对于小W来说有n个不相交的时间段$[c_1,d_1],[c_2,d_2]...[c_n,d_n]$在装车。其中，一个时间段[s, t]表示的是从时刻s到时刻t这段时间，时长为t-s。\n",
    "\n",
    "&emsp;&emsp;由于他们是好朋友，他们都在广场上装车的时候会聊天，他们想知道他们可以聊多长时间。\n"
   ]
  },
  {
   "cell_type": "markdown",
   "metadata": {},
   "source": [
    "### 输入格式\n",
    "&emsp;&emsp;输入的第一行包含一个正整数n，表示时间段的数量。\n",
    "\n",
    "&emsp;&emsp;接下来n行每行两个数ai，bi，描述小H的各个装车的时间段。\n",
    "\n",
    "&emsp;&emsp;接下来n行每行两个数ci，di，描述小W的各个装车的时间段。\n"
   ]
  },
  {
   "cell_type": "markdown",
   "metadata": {},
   "source": [
    "### 输出格式\n",
    "&emsp;&emsp;输出一行，一个正整数，表示两人可以聊多长时间。\n"
   ]
  },
  {
   "cell_type": "markdown",
   "metadata": {},
   "source": [
    "### 样例输入\n",
    "<pre>\n",
    "4\n",
    "1 3\n",
    "5 6\n",
    "9 13\n",
    "14 15\n",
    "2 4\n",
    "5 7\n",
    "10 11\n",
    "13 14\n",
    "</pre>"
   ]
  },
  {
   "cell_type": "markdown",
   "metadata": {
    "toc-hr-collapsed": false
   },
   "source": [
    "### 样例输出\n",
    "<pre>\n",
    "3\n",
    "</pre>"
   ]
  },
  {
   "cell_type": "markdown",
   "metadata": {},
   "source": [
    "### 评测用例规模与约定\n",
    "&emsp;&emsp;对于所有的评测用例，1 ≤ n ≤ 2000, $a_i < b_i < a_{i+1}，c_i < d_i < c_{i+1}$,对于所有的i(1 ≤ i ≤ n)有，$1 ≤ a_i, b_i, c_i, d_i ≤ 1000000$。\n"
   ]
  },
  {
   "cell_type": "code",
   "execution_count": null,
   "metadata": {},
   "outputs": [],
   "source": []
  }
 ],
 "metadata": {
  "kernelspec": {
   "display_name": "Python 3",
   "language": "python",
   "name": "python3"
  },
  "language_info": {
   "codemirror_mode": {
    "name": "ipython",
    "version": 3
   },
   "file_extension": ".py",
   "mimetype": "text/x-python",
   "name": "python",
   "nbconvert_exporter": "python",
   "pygments_lexer": "ipython3",
   "version": "3.7.3"
  }
 },
 "nbformat": 4,
 "nbformat_minor": 4
}

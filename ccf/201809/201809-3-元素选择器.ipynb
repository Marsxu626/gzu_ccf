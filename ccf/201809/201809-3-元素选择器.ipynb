{
 "cells": [
  {
   "cell_type": "markdown",
   "metadata": {},
   "source": [
    "# 元素选择器"
   ]
  },
  {
   "cell_type": "markdown",
   "metadata": {},
   "source": [
    "## 时间限制\n",
    "1.0s"
   ]
  },
  {
   "cell_type": "markdown",
   "metadata": {},
   "source": [
    "## 内存限制\n",
    "256.0MB"
   ]
  },
  {
   "cell_type": "markdown",
   "metadata": {
    "toc-hr-collapsed": false
   },
   "source": [
    "\n",
    "![img-201809-3-1](images/201809-3-1.jpg)\n",
    "\n",
    "![img-201809-3-2](images/201809-3-2.jpg)\n",
    "\n",
    "![img-201809-3-3](images/201809-3-3.jpg)\n",
    "\n",
    "![img-201809-3-4](images/201809-3-4.jpg)\n"
   ]
  },
  {
   "cell_type": "markdown",
   "metadata": {},
   "source": [
    "### 样例输入\n",
    "<pre>\n",
    "11 5\n",
    "html\n",
    "..head\n",
    "....title\n",
    "..body\n",
    "....h1\n",
    "....p #subtitle\n",
    "....div #main\n",
    "......h2\n",
    "......p #one\n",
    "......div\n",
    "........p #two\n",
    "p\n",
    "#subtitle\n",
    "h3\n",
    "div p\n",
    "div div p\n",
    "</pre>"
   ]
  },
  {
   "cell_type": "markdown",
   "metadata": {
    "toc-hr-collapsed": false
   },
   "source": [
    "### 样例输出\n",
    "<pre>\n",
    "3 6 9 11\n",
    "1 6\n",
    "0\n",
    "2 9 11\n",
    "1 11\n",
    "</pre>"
   ]
  },
  {
   "cell_type": "code",
   "execution_count": null,
   "metadata": {},
   "outputs": [],
   "source": []
  }
 ],
 "metadata": {
  "kernelspec": {
   "display_name": "Python 3",
   "language": "python",
   "name": "python3"
  },
  "language_info": {
   "codemirror_mode": {
    "name": "ipython",
    "version": 3
   },
   "file_extension": ".py",
   "mimetype": "text/x-python",
   "name": "python",
   "nbconvert_exporter": "python",
   "pygments_lexer": "ipython3",
   "version": "3.7.3"
  }
 },
 "nbformat": 4,
 "nbformat_minor": 4
}

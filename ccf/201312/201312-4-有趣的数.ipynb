{
 "cells": [
  {
   "cell_type": "markdown",
   "metadata": {},
   "source": [
    "# 有趣的数"
   ]
  },
  {
   "cell_type": "markdown",
   "metadata": {},
   "source": [
    "## 时间限制\n",
    "1.0s"
   ]
  },
  {
   "cell_type": "markdown",
   "metadata": {},
   "source": [
    "## 内存限制\n",
    "256.0MB"
   ]
  },
  {
   "cell_type": "markdown",
   "metadata": {
    "toc-hr-collapsed": false
   },
   "source": [
    "## 问题描述\n",
    "&emsp;&emsp;我们把一个数称为有趣的，当且仅当：\n",
    "\n",
    "> 1. 它的数字只包含0, 1, 2, 3，且这四个数字都出现过至少一次。\n",
    "> 2. 所有的0都出现在所有的1之前，而所有的2都出现在所有的3之前。\n",
    "> 3. 最高位数字不为0。\n",
    "\n",
    "&emsp;&emsp;因此，符合我们定义的最小的有趣的数是2013。除此以外，4位的有趣的数还有两个：2031和2301。\n",
    "\n",
    "&emsp;&emsp;请计算恰好有n位的有趣的数的个数。由于答案可能非常大，只需要输出答案除以1000000007的余数。"
   ]
  },
  {
   "cell_type": "markdown",
   "metadata": {},
   "source": [
    "### 输入格式\n",
    "&emsp;&emsp;输入只有一行，包括恰好一个正整数n (4 ≤ n ≤ 1000)"
   ]
  },
  {
   "cell_type": "markdown",
   "metadata": {},
   "source": [
    "### 输出格式\n",
    "&emsp;&emsp;输出只有一行，包括恰好n 位的整数中有趣的数的个数除以1000000007的余数。"
   ]
  },
  {
   "cell_type": "markdown",
   "metadata": {},
   "source": [
    "### 样例输入\n",
    "    4"
   ]
  },
  {
   "cell_type": "markdown",
   "metadata": {
    "toc-hr-collapsed": false
   },
   "source": [
    "### 样例输出\n",
    "    3"
   ]
  },
  {
   "cell_type": "code",
   "execution_count": null,
   "metadata": {},
   "outputs": [],
   "source": []
  }
 ],
 "metadata": {
  "kernelspec": {
   "display_name": "Python 3",
   "language": "python",
   "name": "python3"
  },
  "language_info": {
   "codemirror_mode": {
    "name": "ipython",
    "version": 3
   },
   "file_extension": ".py",
   "mimetype": "text/x-python",
   "name": "python",
   "nbconvert_exporter": "python",
   "pygments_lexer": "ipython3",
   "version": "3.6.9"
  }
 },
 "nbformat": 4,
 "nbformat_minor": 4
}

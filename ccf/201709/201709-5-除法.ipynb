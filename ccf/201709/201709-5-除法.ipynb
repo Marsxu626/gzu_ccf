{
 "cells": [
  {
   "cell_type": "markdown",
   "metadata": {},
   "source": [
    "# 除法"
   ]
  },
  {
   "cell_type": "markdown",
   "metadata": {},
   "source": [
    "## 时间限制\n",
    "10.0s"
   ]
  },
  {
   "cell_type": "markdown",
   "metadata": {},
   "source": [
    "## 内存限制\n",
    "256.0MB"
   ]
  },
  {
   "cell_type": "markdown",
   "metadata": {
    "toc-hr-collapsed": false
   },
   "source": [
    "## 问题描述\n",
    "&emsp;&emsp;小葱喜欢除法，所以他给了你N个数$a_1$, $a_2$, ⋯, $a_N$，并且希望你执行M次操作，每次操作可能有以下两种：\n",
    "\n",
    "&emsp;&emsp;给你三个数l, r, v，你需要将$a_l$, $a_{l+1}$, ⋯, $a_r$之间所有v的倍数除以v。\n",
    "\n",
    "&emsp;&emsp;给你两个数l, r，你需要回答$a_l$, $a_{l+1}$, ⋯, $a_r$的值是多少。\n"
   ]
  },
  {
   "cell_type": "markdown",
   "metadata": {},
   "source": [
    "### 输入格式\n",
    "&emsp;&emsp;第一行两个整数N, M，代表数的个数和操作的次数。\n",
    "\n",
    "&emsp;&emsp;接下来一行N个整数，代表N个数一开始的值。\n",
    "\n",
    "&emsp;&emsp;接下来M行，每行代表依次操作。每行开始有一个整数opt。如果opt=1，那么接下来有三个数l, r, v，代表这次操作需要将第l个数到第r个数中v的倍数除以v；如果opt = 2，那么接下来有两个数l, r，代表你需要回答第l个数到第r个数的和。\n"
   ]
  },
  {
   "cell_type": "markdown",
   "metadata": {},
   "source": [
    "### 输出格式\n",
    "&emsp;&emsp;对于每一次的第二种操作，输出一行代表这次操作所询问的值。\n"
   ]
  },
  {
   "cell_type": "markdown",
   "metadata": {},
   "source": [
    "### 样例输入\n",
    "<pre>\n",
    "5 3\n",
    "1 2 3 4 5\n",
    "2 1 5\n",
    "1 1 3 2\n",
    "2 1 5\n",
    "</pre>"
   ]
  },
  {
   "cell_type": "markdown",
   "metadata": {
    "toc-hr-collapsed": false
   },
   "source": [
    "### 样例输出\n",
    "<pre>\n",
    "15\n",
    "14\n",
    "</pre>"
   ]
  },
  {
   "cell_type": "markdown",
   "metadata": {},
   "source": [
    "### 评测用例规模与约定\n",
    "&emsp;&emsp;对于30%的评测用例，1 ≤ N, M ≤ 1000；\n",
    "\n",
    "&emsp;&emsp;对于另外20%的评测用例，第一种操作中一定有l = r；\n",
    "\n",
    "&emsp;&emsp;对于另外20%的评测用例，第一种操作中一定有l = 1 , r = N；\n",
    "\n",
    "&emsp;&emsp;对于100%的评测用例，1 ≤ N, M ≤ 105，0 ≤ a1, a2, ⋯, aN ≤ 106, 1 ≤ v ≤ 106, 1 ≤ l ≤ r ≤ N。\n"
   ]
  },
  {
   "cell_type": "code",
   "execution_count": null,
   "metadata": {},
   "outputs": [],
   "source": []
  }
 ],
 "metadata": {
  "kernelspec": {
   "display_name": "Python 3",
   "language": "python",
   "name": "python3"
  },
  "language_info": {
   "codemirror_mode": {
    "name": "ipython",
    "version": 3
   },
   "file_extension": ".py",
   "mimetype": "text/x-python",
   "name": "python",
   "nbconvert_exporter": "python",
   "pygments_lexer": "ipython3",
   "version": "3.7.3"
  }
 },
 "nbformat": 4,
 "nbformat_minor": 4
}

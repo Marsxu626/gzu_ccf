{
 "cells": [
  {
   "cell_type": "markdown",
   "metadata": {},
   "source": [
    "# 压缩编码"
   ]
  },
  {
   "cell_type": "markdown",
   "metadata": {},
   "source": [
    "## 时间限制\n",
    "3.0s"
   ]
  },
  {
   "cell_type": "markdown",
   "metadata": {},
   "source": [
    "## 内存限制\n",
    "256.0MB"
   ]
  },
  {
   "cell_type": "markdown",
   "metadata": {
    "toc-hr-collapsed": false
   },
   "source": [
    "## 问题描述\n",
    "&emsp;&emsp;给定一段文字，已知单词$a_1$, $a_2$, …, $a_n$出现的频率分别$t_1$, $t_2$, …, $t_n$。可以用01串给这些单词编码，即将每个单词与一个01串对应，使得任何一个单词的编码（对应的01串）不是另一个单词编码的前缀，这种编码称为前缀码。\n",
    "\n",
    "&emsp;&emsp;使用前缀码编码一段文字是指将这段文字中的每个单词依次对应到其编码。一段文字经过前缀编码后的长度为：\n",
    "\n",
    "&emsp;&emsp;L=$a_1$的编码长度×$t_1+a_2$的编码长度×$t_2$+…+ $a_n$的编码长度×$t_n$。\n",
    "\n",
    "&emsp;&emsp;定义一个前缀编码为字典序编码，指对于1 ≤ i < n，$a_i$的编码（对应的01串）的字典序在$a_{i+1}$编码之前，即$a_1$, $a_2$, …, $a_n$的编码是按字典序升序排列的。\n",
    "\n",
    "&emsp;&emsp;例如，文字E A E C D E B C C E C B D B E中， 5个单词A、B、C、D、E出现的频率分别为1, 3, 4, 2, 5，则一种可行的编码方案是A:000, B:001, C:01, D:10, E:11，对应的编码后的01串为1100011011011001010111010011000111，对应的长度L为3×1+3×3+2×4+2×2+2×5=34。\n",
    "\n",
    "&emsp;&emsp;在这个例子中，如果使用哈夫曼(Huffman)编码，对应的编码方案是A:000, B:01, C:10, D:001, E:11，虽然最终文字编码后的总长度只有33，但是这个编码不满足字典序编码的性质，比如C的编码的字典序不在D的编码之前。\n",
    "\n",
    "&emsp;&emsp;在这个例子中，有些人可能会想的另一个字典序编码是A:000, B:001, C:010, D:011, E:1，编码后的文字长度为35。\n",
    "\n",
    "&emsp;&emsp;请找出一个字典序编码，使得文字经过编码后的长度L最小。在输出时，你只需要输出最小的长度L，而不需要输出具体的方案。在上面的例子中，最小的长度L为34。\n"
   ]
  },
  {
   "cell_type": "markdown",
   "metadata": {},
   "source": [
    "### 输入格式\n",
    "&emsp;&emsp;输入的第一行包含一个整数n，表示单词的数量。\n",
    "\n",
    "&emsp;&emsp;第二行包含n个整数，用空格分隔，分别表示$a_1$, $a_2$, …, $a_n$出现的频率，即$t_1$, $t_2$, …, $t_n$。请注意$a_1$, $a_2$, …, $a_n$具体是什么单词并不影响本题的解，所以没有输入$a_1$, $a_2$, …, $a_n$。\n"
   ]
  },
  {
   "cell_type": "markdown",
   "metadata": {},
   "source": [
    "### 输出格式\n",
    "&emsp;&emsp;输出一个整数，表示文字经过编码后的长度L的最小值。\n"
   ]
  },
  {
   "cell_type": "markdown",
   "metadata": {},
   "source": [
    "### 样例输入\n",
    "<pre>\n",
    "5\n",
    "1 3 4 2 5\n",
    "</pre>"
   ]
  },
  {
   "cell_type": "markdown",
   "metadata": {
    "toc-hr-collapsed": false
   },
   "source": [
    "### 样例输出\n",
    "<pre>\n",
    "34\n",
    "</pre>"
   ]
  },
  {
   "cell_type": "markdown",
   "metadata": {},
   "source": [
    "### 样例说明\n",
    "&emsp;&emsp;这个样例就是问题描述中的例子。如果你得到了35，说明你算得有问题，请自行检查自己的算法而不要怀疑是样例输出写错了。\n"
   ]
  },
  {
   "cell_type": "markdown",
   "metadata": {},
   "source": [
    "### 评测用例规模与约定\n",
    "&emsp;&emsp;对于30%的评测用例，1 ≤ n ≤ 10，1 ≤ ti ≤ 20；\n",
    "\n",
    "&emsp;&emsp;对于60%的评测用例，1 ≤ n ≤ 100，1 ≤ ti ≤ 100；\n",
    "\n",
    "&emsp;&emsp;对于100%的评测用例，1 ≤ n ≤ 1000，1 ≤ ti ≤ 10000。\n"
   ]
  },
  {
   "cell_type": "code",
   "execution_count": null,
   "metadata": {},
   "outputs": [],
   "source": []
  }
 ],
 "metadata": {
  "kernelspec": {
   "display_name": "Python 3",
   "language": "python",
   "name": "python3"
  },
  "language_info": {
   "codemirror_mode": {
    "name": "ipython",
    "version": 3
   },
   "file_extension": ".py",
   "mimetype": "text/x-python",
   "name": "python",
   "nbconvert_exporter": "python",
   "pygments_lexer": "ipython3",
   "version": "3.7.3"
  }
 },
 "nbformat": 4,
 "nbformat_minor": 4
}

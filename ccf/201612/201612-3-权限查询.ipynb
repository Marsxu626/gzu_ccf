{
 "cells": [
  {
   "cell_type": "markdown",
   "metadata": {},
   "source": [
    "# 权限查询"
   ]
  },
  {
   "cell_type": "markdown",
   "metadata": {},
   "source": [
    "## 时间限制\n",
    "1.0s"
   ]
  },
  {
   "cell_type": "markdown",
   "metadata": {},
   "source": [
    "## 内存限制\n",
    "256.0MB"
   ]
  },
  {
   "cell_type": "markdown",
   "metadata": {
    "toc-hr-collapsed": false
   },
   "source": [
    "## 问题描述\n",
    "&emsp;&emsp;授权 (authorization) 是各类业务系统不可缺少的组成部分，系统用户通过授权机制获得系统中各个模块的操作权限。\n",
    "\n",
    "&emsp;&emsp;本题中的授权机制是这样设计的：每位用户具有若干角色，每种角色具有若干权限。例如，用户 david 具有 manager 角色，manager 角色有 crm:2 权限，则用户 david 具有 crm:2 权限，也就是 crm 类权限的第 2 等级的权限。\n",
    "\n",
    "&emsp;&emsp;具体地，用户名和角色名称都是由小写字母组成的字符串，长度不超过 32。权限分为分等级权限和不分等级权限两大类。分等级权限由权限类名和权限等级构成，中间用冒号“:”分隔。其中权限类名也是由小写字母组成的字符串，长度不超过 32。权限等级是一位数字，从 0 到 9，数字越大表示权限等级越高。系统规定如果用户具有某类某一等级的权限，那么他也将自动具有该类更低等级的权限。例如在上面的例子中，除 crm:2 外，用户 david 也具有 crm:1 和 crm:0 权限。不分等级权限在描述权限时只有权限类名，没有权限等级（也没有用于分隔的冒号）。\n",
    "\n",
    "&emsp;&emsp;给出系统中用户、角色和权限的描述信息，你的程序需要回答多个关于用户和权限的查询。查询可分为以下几类：\n",
    "* 不分等级权限的查询：如果权限本身是不分等级的，则查询时不指定等级，返回是否具有该权限；\n",
    "* 分等级权限的带等级查询：如果权限本身分等级，查询也带等级，则返回是否具有该类的该等级权限；\n",
    "* 分等级权限的不带等级查询：如果权限本身分等级，查询不带等级，则返回具有该类权限的等级；如果不具有该类的任何等级权限，则返回“否”。"
   ]
  },
  {
   "cell_type": "markdown",
   "metadata": {},
   "source": [
    "### 输入格式\n",
    "&emsp;&emsp;输入第一行是一个正整数 p，表示不同的权限类别的数量。紧接着的 p 行被称为 P 段，每行一个字符串，描述各个权限。对于分等级权限，格式为 &lt;category>:&lt;level>，其中 &lt;category> 是权限类名，&lt;level> 是该类权限的最高等级。对于不分等级权限，字符串只包含权限类名。\n",
    "\n",
    "&emsp;&emsp;接下来一行是一个正整数 r，表示不同的角色数量。紧接着的 r 行被称为 R 段，每行描述一种角色，格式为\n",
    "\n",
    "&emsp;&emsp;&lt;role> &lt;s> &lt;privilege 1> &lt;privilege 2> ... &lt;privilege s>\n",
    "\n",
    "&emsp;&emsp;其中 &lt;role> 是角色名称，&lt;s> 表示该角色具有多少种权限。后面 &lt;s> 个字符串描述该角色具有的权限，格式同 P 段。\n",
    "\n",
    "&emsp;&emsp;接下来一行是一个正整数 u，表示用户数量。紧接着的 u 行被称为 U 段，每行描述一个用户，格式为\n",
    "\n",
    "&emsp;&emsp;&lt;user> &lt;t> &lt;role 1> &lt;role 2> ... &lt;role t>\n",
    "\n",
    "&emsp;&emsp;其中 &lt;user> 是用户名，&lt;t> 表示该用户具有多少种角色。后面 &lt;t> 个字符串描述该用户具有的角色。\n",
    "\n",
    "&emsp;&emsp;接下来一行是一个正整数 q，表示权限查询的数量。紧接着的 q 行被称为 Q 段，每行描述一个授权查询，格式为 &lt;user> &lt;privilege>，表示查询用户 &lt;user> 是否具有 &lt;privilege> 权限。如果查询的权限是分等级权限，则查询中的 &lt;privilege> 可指定等级，表示查询该用户是否具有该等级的权限；也可以不指定等级，表示查询该用户具有该权限的等级。对于不分等级权限，只能查询该用户是否具有该权限，查询中不能指定等级。\n"
   ]
  },
  {
   "cell_type": "markdown",
   "metadata": {},
   "source": [
    "### 输出格式\n",
    "&emsp;&emsp;输出共 q 行，每行为 false、true，或者一个数字。false 表示相应的用户不具有相应的权限，true 表示相应的用户具有相应的权限。对于分等级权限的不带等级查询，如果具有权限，则结果是一个数字，表示该用户具有该权限的（最高）等级。如果用户不存在，或者查询的权限没有定义，则应该返回 false。"
   ]
  },
  {
   "cell_type": "markdown",
   "metadata": {},
   "source": [
    "### 样例输入\n",
    "<pre>\n",
    "3\n",
    "crm:2\n",
    "git:3\n",
    "game\n",
    "4\n",
    "hr 1 crm:2\n",
    "it 3 crm:1 git:1 game\n",
    "dev 2 git:3 game\n",
    "qa 1 git:2\n",
    "3\n",
    "alice 1 hr\n",
    "bob 2 it qa\n",
    "charlie 1 dev\n",
    "9\n",
    "alice game\n",
    "alice crm:2\n",
    "alice git:0\n",
    "bob git\n",
    "bob poweroff\n",
    "charlie game\n",
    "charlie crm\n",
    "charlie git:3\n",
    "malice game\n",
    "</pre>"
   ]
  },
  {
   "cell_type": "markdown",
   "metadata": {
    "toc-hr-collapsed": false
   },
   "source": [
    "### 样例输出\n",
    "<pre>\n",
    "false\n",
    "true\n",
    "false\n",
    "2\n",
    "false\n",
    "true\n",
    "false\n",
    "true\n",
    "false\n",
    "</pre>"
   ]
  },
  {
   "cell_type": "markdown",
   "metadata": {},
   "source": [
    "### 样例说明\n",
    "&emsp;&emsp;样例输入描述的场景中，各个用户实际的权限如下：\n",
    "* 用户 alice 具有 crm:2 权限\n",
    "* 用户 bob 具有 crm:1、git:2 和 game 权限\n",
    "* 用户 charlie 具有 git:3 和 game 权限\n",
    "* 用户 malice 未描述，因此不具有任何权限"
   ]
  },
  {
   "cell_type": "markdown",
   "metadata": {},
   "source": [
    "### 评测用例规模与约定\n",
    "&emsp;&emsp;评测用例规模：\n",
    "* 1 ≤ p, r, u ≤ 100\n",
    "* 1 ≤ q ≤ 10 000\n",
    "* 每个用户具有的角色数不超过 10，每种角色具有的权限种类不超过 10\n",
    "\n",
    "&emsp;&emsp;约定：\n",
    "* 输入保证合法性，包括：\n",
    "\n",
    "&emsp;&emsp;1) 角色对应的权限列表（R 段）中的权限都是之前（P 段）出现过的，权限可以重复出现，如果带等级的权限重复出现，以等级最高的为准\n",
    "\n",
    "&emsp;&emsp;2) 用户对应的角色列表（U 段）中的角色都是之前（R 段）出现过的，如果多个角色都具有某一分等级权限，以等级最高的为准\n",
    "\n",
    "&emsp;&emsp;3) 查询（Q 段）中的用户名和权限类名不保证在之前（U 段和 P 段）出现过\n",
    "* 前 20% 的评测用例只有一种角色\n",
    "* 前 50% 的评测用例权限都是不分等级的，查询也都不带等级"
   ]
  },
  {
   "cell_type": "code",
   "execution_count": null,
   "metadata": {},
   "outputs": [],
   "source": []
  }
 ],
 "metadata": {
  "kernelspec": {
   "display_name": "Python 3",
   "language": "python",
   "name": "python3"
  },
  "language_info": {
   "codemirror_mode": {
    "name": "ipython",
    "version": 3
   },
   "file_extension": ".py",
   "mimetype": "text/x-python",
   "name": "python",
   "nbconvert_exporter": "python",
   "pygments_lexer": "ipython3",
   "version": "3.7.3"
  }
 },
 "nbformat": 4,
 "nbformat_minor": 4
}
